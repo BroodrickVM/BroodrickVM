{
  "cells": [
    {
      "cell_type": "markdown",
      "metadata": {
        "id": "view-in-github",
        "colab_type": "text"
      },
      "source": [
        "<a href=\"https://colab.research.google.com/github/BroodrickVM/BroodrickVM/blob/main/Lecture_01.ipynb\" target=\"_parent\"><img src=\"https://colab.research.google.com/assets/colab-badge.svg\" alt=\"Open In Colab\"/></a>"
      ]
    },
    {
      "cell_type": "markdown",
      "id": "substantial-provincial",
      "metadata": {
        "id": "substantial-provincial"
      },
      "source": [
        "# Python Class #1"
      ]
    },
    {
      "cell_type": "markdown",
      "id": "junior-motel",
      "metadata": {
        "id": "junior-motel"
      },
      "source": [
        "## 1.1 About Python and IDEs"
      ]
    },
    {
      "cell_type": "markdown",
      "id": "greater-causing",
      "metadata": {
        "id": "greater-causing"
      },
      "source": [
        "What is Python?\n"
      ]
    },
    {
      "cell_type": "markdown",
      "id": "liked-zealand",
      "metadata": {
        "id": "liked-zealand"
      },
      "source": [
        "### Where am I?\n",
        "This is a `Jupyter Notebook`, one of many `Integrated Development Environments` (`IDEs`) developers can use to write code.\n",
        "\n",
        "Microsoft Word: English as Jupyter Notebook:Python\n",
        "\n",
        "Other common `IDE`s for Python include:\n",
        "- Jupyter Notebook\n",
        "- Spyder\n",
        "- Idle\n",
        "- Visual Studio\n",
        "- Atom\n",
        "- Notepad++\n",
        "\n",
        "Some IDEs include `Kernels`, but some do not. Jupyter Notebook, or notebooks in general are useful especially for exploratory and visual analysis, but they are surely not without their drawbacks."
      ]
    },
    {
      "cell_type": "markdown",
      "id": "composite-wholesale",
      "metadata": {
        "id": "composite-wholesale"
      },
      "source": [
        "|Action|Command|\n",
        "|-------------------|---------------------|\n",
        "|    Execute current cell | `<CTRL-ENTER>`|\n",
        "|    Execute current cell and moves to next cell | `<SHIFT-ENTER>`|\n",
        "|   Insert cell above | `<CTRL-M> <A>`|\n",
        "|  Append cell below | `<CTRL-M> <B>`|\n",
        "|    Convert cell to code | `<CTRL-M> <Y>`|\n",
        "|   Convert cell to Markdown | `<CTRL-M> <M>`|\n",
        "|  Delete cell | `<CTRL-M> <D>`|\n",
        "|    Autocomplete | `<TAB>`|\n",
        "|    Goes from edit to \\\"command\\\" mode | `<ESC>`|\n",
        "|    Goes from \\\"command\\\" to edit mode | `<ENTER>`|\n",
        "\n",
        "   "
      ]
    },
    {
      "cell_type": "markdown",
      "source": [
        "### File Types\n",
        "Python primarily uses two different file types that you should be familiar with.\n",
        "- `.py`: This is the native text-based file type to python that indicates to the computer that it should be treated as containing Python code\n",
        "- `.ipynb`: Another common file type for Python users that enables the user to see code and output in the same place. This enables Jupyter Notebooks such as the one we are in right now!"
      ],
      "metadata": {
        "id": "tKYPMVGUG2CC"
      },
      "id": "tKYPMVGUG2CC"
    },
    {
      "cell_type": "markdown",
      "id": "amino-customer",
      "metadata": {
        "id": "amino-customer"
      },
      "source": [
        "## 1.2 Basic Operators"
      ]
    },
    {
      "cell_type": "markdown",
      "source": [
        "### `Arithmetic Operators`"
      ],
      "metadata": {
        "id": "lDvilYd9KdtV"
      },
      "id": "lDvilYd9KdtV"
    },
    {
      "cell_type": "markdown",
      "source": [
        "An `Arithmetic Operator` is a mathematical function that performs a calculation on two operands. The different types of arithmetic operators include *addition*, *subtraction*, *multiplication*, *division*, *modulus*, *exponentiation* and *floor division*.\n",
        "\n",
        "| Symbol | Operator |\n",
        "| -------| ------|\n",
        "| + | Addition|\n",
        "|-|Subtraction|\n",
        "|/|Divisision|\n",
        "| * | Multiplication |\n",
        "| ** | Exponents |\n",
        "| % | Mod |\n",
        "| // | Floor Division |"
      ],
      "metadata": {
        "id": "NnZ__j8THpAC"
      },
      "id": "NnZ__j8THpAC"
    },
    {
      "cell_type": "markdown",
      "id": "fifty-trauma",
      "metadata": {
        "id": "fifty-trauma"
      },
      "source": [
        "#### Addition"
      ]
    },
    {
      "cell_type": "code",
      "execution_count": null,
      "id": "flexible-joseph",
      "metadata": {
        "id": "flexible-joseph"
      },
      "outputs": [],
      "source": [
        "1 + 10 + 2"
      ]
    },
    {
      "cell_type": "markdown",
      "id": "revolutionary-relation",
      "metadata": {
        "id": "revolutionary-relation"
      },
      "source": [
        "#### Subtraction"
      ]
    },
    {
      "cell_type": "code",
      "execution_count": null,
      "id": "desirable-basketball",
      "metadata": {
        "id": "desirable-basketball"
      },
      "outputs": [],
      "source": [
        "10 - 2"
      ]
    },
    {
      "cell_type": "code",
      "execution_count": null,
      "id": "novel-processor",
      "metadata": {
        "id": "novel-processor"
      },
      "outputs": [],
      "source": [
        "6 - 3 + 2"
      ]
    },
    {
      "cell_type": "code",
      "execution_count": null,
      "id": "excessive-acrylic",
      "metadata": {
        "id": "excessive-acrylic"
      },
      "outputs": [],
      "source": [
        "#-- Notice that Python follows PEMDAS procedures\n",
        "6 - 3 + -2"
      ]
    },
    {
      "cell_type": "markdown",
      "id": "interesting-profile",
      "metadata": {
        "id": "interesting-profile"
      },
      "source": [
        "#### Multiplication"
      ]
    },
    {
      "cell_type": "code",
      "execution_count": null,
      "id": "northern-invention",
      "metadata": {
        "id": "northern-invention",
        "colab": {
          "base_uri": "https://localhost:8080/"
        },
        "outputId": "59c8ae7d-7827-412a-f36e-491123ce668c"
      },
      "outputs": [
        {
          "output_type": "execute_result",
          "data": {
            "text/plain": [
              "40"
            ]
          },
          "metadata": {},
          "execution_count": 10
        }
      ],
      "source": [
        "10 * 4"
      ]
    },
    {
      "cell_type": "code",
      "execution_count": null,
      "id": "common-london",
      "metadata": {
        "id": "common-london",
        "colab": {
          "base_uri": "https://localhost:8080/"
        },
        "outputId": "3cf5d649-89c9-4a90-edaa-92ce82d30df9"
      },
      "outputs": [
        {
          "output_type": "execute_result",
          "data": {
            "text/plain": [
              "40.0"
            ]
          },
          "metadata": {},
          "execution_count": 11
        }
      ],
      "source": [
        "#-- Hmmm... notice 40 compared with 40.0, more to come on different Python data\n",
        "10.0 * 4.0"
      ]
    },
    {
      "cell_type": "code",
      "execution_count": null,
      "id": "ordered-spirituality",
      "metadata": {
        "id": "ordered-spirituality",
        "colab": {
          "base_uri": "https://localhost:8080/"
        },
        "outputId": "d06f3e70-b2ef-4c2b-c6e9-ebe5912b4355"
      },
      "outputs": [
        {
          "output_type": "execute_result",
          "data": {
            "text/plain": [
              "22"
            ]
          },
          "metadata": {},
          "execution_count": 12
        }
      ],
      "source": [
        "10 + 4 * 3"
      ]
    },
    {
      "cell_type": "code",
      "execution_count": null,
      "id": "velvet-opportunity",
      "metadata": {
        "id": "velvet-opportunity",
        "colab": {
          "base_uri": "https://localhost:8080/"
        },
        "outputId": "c9399572-32e6-45b5-8987-98aaa84f9630"
      },
      "outputs": [
        {
          "output_type": "execute_result",
          "data": {
            "text/plain": [
              "42"
            ]
          },
          "metadata": {},
          "execution_count": 13
        }
      ],
      "source": [
        " 3 * (10+4)"
      ]
    },
    {
      "cell_type": "markdown",
      "id": "single-longitude",
      "metadata": {
        "id": "single-longitude"
      },
      "source": [
        "#### Division"
      ]
    },
    {
      "cell_type": "code",
      "execution_count": null,
      "id": "excellent-twenty",
      "metadata": {
        "id": "excellent-twenty",
        "colab": {
          "base_uri": "https://localhost:8080/"
        },
        "outputId": "ce9b6270-0912-4c46-eb76-df8987b001cc"
      },
      "outputs": [
        {
          "output_type": "execute_result",
          "data": {
            "text/plain": [
              "3.0"
            ]
          },
          "metadata": {},
          "execution_count": 14
        }
      ],
      "source": [
        "#-- Notice division automatically converts ints to floats... again, more to come\n",
        "6 / 2"
      ]
    },
    {
      "cell_type": "code",
      "execution_count": null,
      "id": "developed-florence",
      "metadata": {
        "id": "developed-florence",
        "colab": {
          "base_uri": "https://localhost:8080/"
        },
        "outputId": "62813205-d3f0-4ef3-bf10-226a5a485ae3"
      },
      "outputs": [
        {
          "output_type": "execute_result",
          "data": {
            "text/plain": [
              "3.0"
            ]
          },
          "metadata": {},
          "execution_count": 15
        }
      ],
      "source": [
        "6.0 / 2.0"
      ]
    },
    {
      "cell_type": "markdown",
      "id": "activated-catering",
      "metadata": {
        "id": "activated-catering"
      },
      "source": [
        "#### Rooting"
      ]
    },
    {
      "cell_type": "code",
      "execution_count": null,
      "id": "infinite-uzbekistan",
      "metadata": {
        "id": "infinite-uzbekistan",
        "colab": {
          "base_uri": "https://localhost:8080/"
        },
        "outputId": "544daa23-31e0-4941-81a9-6ae3676ebb97"
      },
      "outputs": [
        {
          "output_type": "execute_result",
          "data": {
            "text/plain": [
              "8"
            ]
          },
          "metadata": {},
          "execution_count": 16
        }
      ],
      "source": [
        "2 ** 3"
      ]
    },
    {
      "cell_type": "code",
      "execution_count": null,
      "id": "stunning-yellow",
      "metadata": {
        "id": "stunning-yellow",
        "colab": {
          "base_uri": "https://localhost:8080/"
        },
        "outputId": "bd4fbdbf-c33f-4c0c-db6e-4b38d3036c7b"
      },
      "outputs": [
        {
          "output_type": "execute_result",
          "data": {
            "text/plain": [
              "3.0"
            ]
          },
          "metadata": {},
          "execution_count": 17
        }
      ],
      "source": [
        "9 ** (1/2)"
      ]
    },
    {
      "cell_type": "markdown",
      "id": "according-houston",
      "metadata": {
        "id": "according-houston"
      },
      "source": [
        "#### Modulo\n",
        "If a is divided by b, and the remainder is returned, this remainder is the \"modulo\". Let's see an example with numbers."
      ]
    },
    {
      "cell_type": "code",
      "execution_count": null,
      "id": "loaded-minneapolis",
      "metadata": {
        "id": "loaded-minneapolis",
        "colab": {
          "base_uri": "https://localhost:8080/"
        },
        "outputId": "1aad505e-44ba-4f72-d15b-c9d16abc8e2d"
      },
      "outputs": [
        {
          "output_type": "execute_result",
          "data": {
            "text/plain": [
              "1"
            ]
          },
          "metadata": {},
          "execution_count": 18
        }
      ],
      "source": [
        "5 % 2"
      ]
    },
    {
      "cell_type": "code",
      "execution_count": null,
      "id": "complimentary-astrology",
      "metadata": {
        "id": "complimentary-astrology",
        "colab": {
          "base_uri": "https://localhost:8080/"
        },
        "outputId": "56a47648-55a2-4746-b4a8-e3c379f02540"
      },
      "outputs": [
        {
          "output_type": "execute_result",
          "data": {
            "text/plain": [
              "1"
            ]
          },
          "metadata": {},
          "execution_count": 19
        }
      ],
      "source": [
        "7 % 2"
      ]
    },
    {
      "cell_type": "code",
      "execution_count": null,
      "id": "korean-stack",
      "metadata": {
        "id": "korean-stack",
        "colab": {
          "base_uri": "https://localhost:8080/"
        },
        "outputId": "23a21448-3347-47c1-9b7c-a2858ce5cb0e"
      },
      "outputs": [
        {
          "output_type": "execute_result",
          "data": {
            "text/plain": [
              "0"
            ]
          },
          "metadata": {},
          "execution_count": 20
        }
      ],
      "source": [
        "6 % 2"
      ]
    },
    {
      "cell_type": "code",
      "execution_count": null,
      "id": "worst-pound",
      "metadata": {
        "id": "worst-pound",
        "colab": {
          "base_uri": "https://localhost:8080/"
        },
        "outputId": "945592c1-1fe3-4281-ef6f-ffee90dac44b"
      },
      "outputs": [
        {
          "output_type": "execute_result",
          "data": {
            "text/plain": [
              "2"
            ]
          },
          "metadata": {},
          "execution_count": 21
        }
      ],
      "source": [
        "11 % 3"
      ]
    },
    {
      "cell_type": "markdown",
      "source": [
        "#### Floor Division\n",
        "Floor division is a mathematical operation in Python that divides two numbers and rounds the result down to the nearest integer"
      ],
      "metadata": {
        "id": "ZIJEYrz5LFsC"
      },
      "id": "ZIJEYrz5LFsC"
    },
    {
      "cell_type": "code",
      "source": [
        "9 // 2"
      ],
      "metadata": {
        "id": "8QQEHlbALF2s",
        "colab": {
          "base_uri": "https://localhost:8080/"
        },
        "outputId": "68744fae-0963-4cdb-895b-59c2444a7a9d"
      },
      "id": "8QQEHlbALF2s",
      "execution_count": null,
      "outputs": [
        {
          "output_type": "execute_result",
          "data": {
            "text/plain": [
              "4"
            ]
          },
          "metadata": {},
          "execution_count": 22
        }
      ]
    },
    {
      "cell_type": "code",
      "source": [
        "10 // 3"
      ],
      "metadata": {
        "id": "n8xmj8PRLF52",
        "colab": {
          "base_uri": "https://localhost:8080/"
        },
        "outputId": "31f5af2b-1211-44c4-c34e-bd1e4fe6d8d5"
      },
      "id": "n8xmj8PRLF52",
      "execution_count": null,
      "outputs": [
        {
          "output_type": "execute_result",
          "data": {
            "text/plain": [
              "3"
            ]
          },
          "metadata": {},
          "execution_count": 23
        }
      ]
    },
    {
      "cell_type": "markdown",
      "id": "numerical-secondary",
      "metadata": {
        "id": "numerical-secondary"
      },
      "source": [
        "### `Comparison Operators` (aka relational operators)\n"
      ]
    },
    {
      "cell_type": "markdown",
      "source": [
        "`Comparison operators`, also known as relational operators in Python, compare the values on either side of them and returns a `boolean value` (more on this shortly). They tell whether a statement is True or False according to the condition.\n",
        "\n",
        "| Symbol | Meaning |\n",
        "| -------| ------|\n",
        "| == | Equal To|\n",
        "|!=|Not equal to|\n",
        "|>|Greater than|\n",
        "| >= | Greater than or equal to |\n",
        "| < | Less than |\n",
        "| <= | Less than or equal to |"
      ],
      "metadata": {
        "id": "ea_ibTfIKqCH"
      },
      "id": "ea_ibTfIKqCH"
    },
    {
      "cell_type": "code",
      "source": [
        "10 == 10"
      ],
      "metadata": {
        "colab": {
          "base_uri": "https://localhost:8080/"
        },
        "id": "mFZnhwZHLX5N",
        "outputId": "61a559cb-f772-4460-ea2d-9954b5528a83"
      },
      "id": "mFZnhwZHLX5N",
      "execution_count": null,
      "outputs": [
        {
          "output_type": "execute_result",
          "data": {
            "text/plain": [
              "True"
            ]
          },
          "metadata": {},
          "execution_count": 24
        }
      ]
    },
    {
      "cell_type": "code",
      "source": [
        "10 == 11"
      ],
      "metadata": {
        "colab": {
          "base_uri": "https://localhost:8080/"
        },
        "id": "0ljsdpvkLZwh",
        "outputId": "dfbf73a3-e909-40b1-a53e-377a20dde31f"
      },
      "id": "0ljsdpvkLZwh",
      "execution_count": null,
      "outputs": [
        {
          "output_type": "execute_result",
          "data": {
            "text/plain": [
              "False"
            ]
          },
          "metadata": {},
          "execution_count": 25
        }
      ]
    },
    {
      "cell_type": "code",
      "source": [
        "10 == 10.0"
      ],
      "metadata": {
        "id": "YxiMZAJ4LZzW"
      },
      "id": "YxiMZAJ4LZzW",
      "execution_count": null,
      "outputs": []
    },
    {
      "cell_type": "code",
      "source": [
        "10 != 10"
      ],
      "metadata": {
        "colab": {
          "base_uri": "https://localhost:8080/"
        },
        "id": "NKTsNM5aLZ17",
        "outputId": "4eb2db63-a6c6-4668-8d15-21ca5f7029f9"
      },
      "id": "NKTsNM5aLZ17",
      "execution_count": null,
      "outputs": [
        {
          "output_type": "execute_result",
          "data": {
            "text/plain": [
              "False"
            ]
          },
          "metadata": {},
          "execution_count": 26
        }
      ]
    },
    {
      "cell_type": "code",
      "source": [],
      "metadata": {
        "id": "7xnZKg9dsVXE"
      },
      "id": "7xnZKg9dsVXE",
      "execution_count": null,
      "outputs": []
    },
    {
      "cell_type": "code",
      "source": [
        "10 < 11"
      ],
      "metadata": {
        "id": "KZj8qsrILg_S"
      },
      "id": "KZj8qsrILg_S",
      "execution_count": null,
      "outputs": []
    },
    {
      "cell_type": "code",
      "source": [
        "10 >= 11"
      ],
      "metadata": {
        "id": "M9a5RGwKLjsw"
      },
      "id": "M9a5RGwKLjsw",
      "execution_count": null,
      "outputs": []
    },
    {
      "cell_type": "code",
      "source": [],
      "metadata": {
        "id": "CBBLCIPY6OqT"
      },
      "id": "CBBLCIPY6OqT",
      "execution_count": null,
      "outputs": []
    },
    {
      "cell_type": "code",
      "source": [
        "10==10 and 8==11\n",
        "#True.    # False"
      ],
      "metadata": {
        "colab": {
          "base_uri": "https://localhost:8080/"
        },
        "id": "RVDIcakc6FZa",
        "outputId": "73d79c58-70c3-4e96-c3af-b37376de7069"
      },
      "id": "RVDIcakc6FZa",
      "execution_count": null,
      "outputs": [
        {
          "output_type": "execute_result",
          "data": {
            "text/plain": [
              "False"
            ]
          },
          "metadata": {},
          "execution_count": 28
        }
      ]
    },
    {
      "cell_type": "code",
      "source": [],
      "metadata": {
        "id": "4ncpb2Jd6Fbs"
      },
      "id": "4ncpb2Jd6Fbs",
      "execution_count": null,
      "outputs": []
    },
    {
      "cell_type": "markdown",
      "id": "amber-flood",
      "metadata": {
        "id": "amber-flood"
      },
      "source": [
        "## 1.3 Variables and Python Built-In Data Types and Data Structures\n",
        "These arithmetic operators are crucial to programming, and every programming language will have some variation of these, (more on R later).\n",
        "\n",
        "But just adding subtracting etc is not very useful on its own, we have calculators for that. A big component of computer programming is defining `variables` (Defined below) that we can use, reference and change as our program executes. Variables can store different types of data (e.g. `Data Types`). We have seen an example of this already where some numbers had a decimal, and some did not.\n",
        "\n",
        "`Variables`:\n",
        "Python has no command for declaring a variable. A variable is created the moment you first assign a value to it.\n",
        "\n",
        "Variable naming conventions are as follows:\n",
        "- A variable name must start with a letter or the underscore character\n",
        "- A variable name cannot start with a number\n",
        "- A variable name can only contain alpha-numeric characters and underscores (A-z, 0-9, and _ )\n",
        "- Variable names are case-sensitive (age, Age and AGE are three different variables)\n",
        "\n",
        "\n",
        "\n",
        "`Data Types`\n",
        "- `Data types` are the classification or categorization of knowledge items. The main built-in  data types in Python are `ints`, `floats`, `strings`, and `booleans`.\n"
      ]
    },
    {
      "cell_type": "markdown",
      "id": "painful-myanmar",
      "metadata": {
        "id": "painful-myanmar"
      },
      "source": [
        "##### Data Types: Ints, floats, strings, and booleans\n",
        "|Data Type | Example|\n",
        "|----|----|\n",
        "|Int  | 3,4,5 |\n",
        "|Float  | 10.5, 10.0 |\n",
        "|String  | \"I am a String\", \"10\" |\n",
        "|bool  | True, False |\n",
        "|null | None|"
      ]
    },
    {
      "cell_type": "code",
      "execution_count": null,
      "id": "possible-hypothesis",
      "metadata": {
        "id": "possible-hypothesis",
        "colab": {
          "base_uri": "https://localhost:8080/"
        },
        "outputId": "e2687070-6b35-44bb-b0cf-f2c79c2d98d9"
      },
      "outputs": [
        {
          "output_type": "stream",
          "name": "stdout",
          "text": [
            "10\n"
          ]
        }
      ],
      "source": [
        "#-- Here is an example of a variable declaration\n",
        "x = 10\n",
        "print(x)"
      ]
    },
    {
      "cell_type": "code",
      "source": [
        "type(x)"
      ],
      "metadata": {
        "colab": {
          "base_uri": "https://localhost:8080/"
        },
        "id": "_eyIWBjT7dHp",
        "outputId": "a9181764-9ecf-4750-e99e-386a0c2494a6"
      },
      "id": "_eyIWBjT7dHp",
      "execution_count": null,
      "outputs": [
        {
          "output_type": "execute_result",
          "data": {
            "text/plain": [
              "int"
            ]
          },
          "metadata": {},
          "execution_count": 37
        }
      ]
    },
    {
      "cell_type": "code",
      "execution_count": null,
      "id": "progressive-adolescent",
      "metadata": {
        "id": "progressive-adolescent",
        "colab": {
          "base_uri": "https://localhost:8080/"
        },
        "outputId": "d08eb6bc-0ba4-4f60-fc53-e1ec5c52ae06"
      },
      "outputs": [
        {
          "output_type": "stream",
          "name": "stdout",
          "text": [
            "11\n"
          ]
        }
      ],
      "source": [
        "#-- Note that we can alter the variable after it is declared\n",
        "x = x + 1\n",
        "print(x)"
      ]
    },
    {
      "cell_type": "code",
      "source": [
        "x + 1"
      ],
      "metadata": {
        "colab": {
          "base_uri": "https://localhost:8080/"
        },
        "id": "fQnRFp5_68pQ",
        "outputId": "e2dcc3f2-175e-4013-e124-de69c1fceb45"
      },
      "id": "fQnRFp5_68pQ",
      "execution_count": null,
      "outputs": [
        {
          "output_type": "execute_result",
          "data": {
            "text/plain": [
              "12"
            ]
          },
          "metadata": {},
          "execution_count": 32
        }
      ]
    },
    {
      "cell_type": "code",
      "source": [
        "x"
      ],
      "metadata": {
        "colab": {
          "base_uri": "https://localhost:8080/"
        },
        "id": "nkOY_OOP6-dp",
        "outputId": "0836dd40-762a-4a90-e14b-72ffa08b6f34"
      },
      "id": "nkOY_OOP6-dp",
      "execution_count": null,
      "outputs": [
        {
          "output_type": "execute_result",
          "data": {
            "text/plain": [
              "11"
            ]
          },
          "metadata": {},
          "execution_count": 33
        }
      ]
    },
    {
      "cell_type": "code",
      "source": [
        "x+1"
      ],
      "metadata": {
        "id": "aUNTzUB2qjth"
      },
      "id": "aUNTzUB2qjth",
      "execution_count": null,
      "outputs": []
    },
    {
      "cell_type": "code",
      "source": [
        "x += 1"
      ],
      "metadata": {
        "id": "6TMlFWHuqk2-"
      },
      "id": "6TMlFWHuqk2-",
      "execution_count": null,
      "outputs": []
    },
    {
      "cell_type": "code",
      "source": [
        "x"
      ],
      "metadata": {
        "colab": {
          "base_uri": "https://localhost:8080/"
        },
        "id": "DgNX_Ky67Kdw",
        "outputId": "9f26bd9b-ce82-4ca6-b9e3-b0c4e4fd59f5"
      },
      "id": "DgNX_Ky67Kdw",
      "execution_count": null,
      "outputs": [
        {
          "output_type": "execute_result",
          "data": {
            "text/plain": [
              "12"
            ]
          },
          "metadata": {},
          "execution_count": 35
        }
      ]
    },
    {
      "cell_type": "code",
      "execution_count": null,
      "id": "optical-argument",
      "metadata": {
        "id": "optical-argument",
        "colab": {
          "base_uri": "https://localhost:8080/"
        },
        "outputId": "a5e8a442-ba2a-4422-b10b-7ff1240e80de"
      },
      "outputs": [
        {
          "output_type": "stream",
          "name": "stdout",
          "text": [
            "120\n"
          ]
        }
      ],
      "source": [
        "#-- You can also use this useful plus-equals operator\n",
        "#-- You can also use -=, *=, /= etc\n",
        "x *= 10\n",
        "print(x)"
      ]
    },
    {
      "cell_type": "code",
      "execution_count": null,
      "id": "hidden-statement",
      "metadata": {
        "id": "hidden-statement",
        "colab": {
          "base_uri": "https://localhost:8080/"
        },
        "outputId": "24f6e596-4560-4a24-ffd9-a26e2e263a4b"
      },
      "outputs": [
        {
          "output_type": "execute_result",
          "data": {
            "text/plain": [
              "10"
            ]
          },
          "metadata": {},
          "execution_count": 40
        }
      ],
      "source": [
        "#-- Note that this throws an error, because we have not assigned a piece of\n",
        "#-- data to the variable y, but are trying to use it. Python does not like this.\n",
        "y + 10"
      ]
    },
    {
      "cell_type": "code",
      "source": [
        "y = 0"
      ],
      "metadata": {
        "id": "EeLUe6XsXWT6"
      },
      "id": "EeLUe6XsXWT6",
      "execution_count": null,
      "outputs": []
    },
    {
      "cell_type": "code",
      "execution_count": null,
      "id": "competitive-buddy",
      "metadata": {
        "id": "competitive-buddy"
      },
      "outputs": [],
      "source": [
        "#-- We will learn much more about functions next class, but this is one example\n",
        "#-- of a built-in Python function. It will tell us the data type of a piece of\n",
        "#-- data. We have also been using another.... print()\n",
        "type(x)"
      ]
    },
    {
      "cell_type": "code",
      "source": [
        "print(type(x))"
      ],
      "metadata": {
        "id": "wrHCAsVROzh8"
      },
      "id": "wrHCAsVROzh8",
      "execution_count": null,
      "outputs": []
    },
    {
      "cell_type": "code",
      "source": [
        "#-- Note that a Notebook will only print something if it is the\n",
        "#-- last line of code in a block. If you want to print something,\n",
        "#-- you should really explicitly tell the program to print. The code below,\n",
        "#-- does not print anything\n",
        "type(10.0)"
      ],
      "metadata": {
        "id": "nlZ5ZrdsxZwU",
        "colab": {
          "base_uri": "https://localhost:8080/"
        },
        "outputId": "2b02aa65-c6c8-4b7b-def2-5cffc49253d9"
      },
      "id": "nlZ5ZrdsxZwU",
      "execution_count": null,
      "outputs": [
        {
          "output_type": "execute_result",
          "data": {
            "text/plain": [
              "float"
            ]
          },
          "metadata": {},
          "execution_count": 41
        }
      ]
    },
    {
      "cell_type": "code",
      "execution_count": null,
      "id": "charged-shoot",
      "metadata": {
        "id": "charged-shoot",
        "colab": {
          "base_uri": "https://localhost:8080/"
        },
        "outputId": "c3f67f1c-ab10-47fb-e973-35f98edb9a06"
      },
      "outputs": [
        {
          "output_type": "stream",
          "name": "stdout",
          "text": [
            "<class 'str'>\n"
          ]
        }
      ],
      "source": [
        "#-- This is our first example of a String, which is useful for storing a\n",
        "#-- character, or a \"String\" of characters\n",
        "x = \"10\"\n",
        "print(type(x))"
      ]
    },
    {
      "cell_type": "code",
      "source": [
        "x = '10'"
      ],
      "metadata": {
        "id": "ofll94rh8AkJ"
      },
      "id": "ofll94rh8AkJ",
      "execution_count": null,
      "outputs": []
    },
    {
      "cell_type": "code",
      "source": [
        "x"
      ],
      "metadata": {
        "colab": {
          "base_uri": "https://localhost:8080/",
          "height": 36
        },
        "id": "dcpJ1RXU8Ihg",
        "outputId": "391bc511-a622-4708-c363-9388b3edd7f5"
      },
      "id": "dcpJ1RXU8Ihg",
      "execution_count": null,
      "outputs": [
        {
          "output_type": "execute_result",
          "data": {
            "text/plain": [
              "'10'"
            ],
            "application/vnd.google.colaboratory.intrinsic+json": {
              "type": "string"
            }
          },
          "metadata": {},
          "execution_count": 44
        }
      ]
    },
    {
      "cell_type": "code",
      "source": [
        "x * 10"
      ],
      "metadata": {
        "colab": {
          "base_uri": "https://localhost:8080/",
          "height": 36
        },
        "id": "0Oa9VFxXuOqp",
        "outputId": "1fd01fb7-31e3-4f04-b81d-320a8bd34962"
      },
      "id": "0Oa9VFxXuOqp",
      "execution_count": null,
      "outputs": [
        {
          "output_type": "execute_result",
          "data": {
            "text/plain": [
              "'10101010101010101010'"
            ],
            "application/vnd.google.colaboratory.intrinsic+json": {
              "type": "string"
            }
          },
          "metadata": {},
          "execution_count": 47
        }
      ]
    },
    {
      "cell_type": "code",
      "source": [
        "x = '''\n",
        "kjdbvkjsdbfs\n",
        "sdfkbsdkfjbhsd\n",
        "sdkfbskdbf\n",
        "sdfbsdkjfb\n",
        "'''"
      ],
      "metadata": {
        "id": "uLxdvr4isfzZ"
      },
      "id": "uLxdvr4isfzZ",
      "execution_count": null,
      "outputs": []
    },
    {
      "cell_type": "code",
      "execution_count": null,
      "id": "collective-proportion",
      "metadata": {
        "id": "collective-proportion"
      },
      "outputs": [],
      "source": [
        "x = \"Can we get to the machine learning already?\"\n",
        "print(x)\n",
        "print(type(x))"
      ]
    },
    {
      "cell_type": "code",
      "execution_count": null,
      "id": "verified-gardening",
      "metadata": {
        "id": "verified-gardening"
      },
      "outputs": [],
      "source": [
        "x = 10\n",
        "print(type(x))"
      ]
    },
    {
      "cell_type": "code",
      "execution_count": null,
      "id": "integral-wednesday",
      "metadata": {
        "id": "integral-wednesday"
      },
      "outputs": [],
      "source": [
        "x = 10.0\n",
        "print(type(x))"
      ]
    },
    {
      "cell_type": "code",
      "source": [
        "x + \"10\""
      ],
      "metadata": {
        "id": "EKD8BEzh3Xsg"
      },
      "id": "EKD8BEzh3Xsg",
      "execution_count": null,
      "outputs": []
    },
    {
      "cell_type": "code",
      "execution_count": null,
      "id": "important-pitch",
      "metadata": {
        "id": "important-pitch",
        "colab": {
          "base_uri": "https://localhost:8080/"
        },
        "outputId": "697dcf99-3e28-41cd-ea36-3437e205c5d1"
      },
      "outputs": [
        {
          "output_type": "stream",
          "name": "stdout",
          "text": [
            "<class 'bool'>\n"
          ]
        }
      ],
      "source": [
        "#-- Boolean values in Python can be only True or False.\n",
        "#-- Capitalization is important here!\n",
        "#-- This can be very useful for comparing data types, as we see below.\n",
        "#-- You can compare data types with a \"==\". This is important, and you fill forget\n",
        "#-- this from time to time.\n",
        "#-- e.g. 10 == 12 --> False\n",
        "#-- e.g. 10 == 10 --> True\n",
        "x = True\n",
        "print(type(x))"
      ]
    },
    {
      "cell_type": "code",
      "execution_count": null,
      "id": "oriental-david",
      "metadata": {
        "id": "oriental-david",
        "colab": {
          "base_uri": "https://localhost:8080/"
        },
        "outputId": "e8535213-d993-4da2-ce95-143d718cf050"
      },
      "outputs": [
        {
          "output_type": "stream",
          "name": "stdout",
          "text": [
            "<class 'bool'>\n"
          ]
        }
      ],
      "source": [
        "x = False\n",
        "print(type(x))"
      ]
    },
    {
      "cell_type": "code",
      "source": [
        "print(type(10==10))\n"
      ],
      "metadata": {
        "id": "N644ki_sPgK4",
        "colab": {
          "base_uri": "https://localhost:8080/"
        },
        "outputId": "99612a5f-5083-4487-b84d-a725f269c503"
      },
      "id": "N644ki_sPgK4",
      "execution_count": null,
      "outputs": [
        {
          "output_type": "stream",
          "name": "stdout",
          "text": [
            "<class 'bool'>\n"
          ]
        }
      ]
    },
    {
      "cell_type": "code",
      "source": [
        "x = 10\n",
        "y = 11\n",
        "z = x + y"
      ],
      "metadata": {
        "id": "vyvoEggctUaC"
      },
      "id": "vyvoEggctUaC",
      "execution_count": null,
      "outputs": []
    },
    {
      "cell_type": "code",
      "source": [
        "z"
      ],
      "metadata": {
        "colab": {
          "base_uri": "https://localhost:8080/"
        },
        "id": "4rDpRga8tZDW",
        "outputId": "8eff8038-60f2-439a-9e8e-397943d4f6c6"
      },
      "id": "4rDpRga8tZDW",
      "execution_count": null,
      "outputs": [
        {
          "output_type": "execute_result",
          "data": {
            "text/plain": [
              "21"
            ]
          },
          "metadata": {},
          "execution_count": 55
        }
      ]
    },
    {
      "cell_type": "code",
      "source": [
        "x = 100"
      ],
      "metadata": {
        "id": "DGUhwSlC9Lhv"
      },
      "id": "DGUhwSlC9Lhv",
      "execution_count": null,
      "outputs": []
    },
    {
      "cell_type": "code",
      "source": [
        "x = 10 == 10\n",
        "x"
      ],
      "metadata": {
        "id": "ct3-vVAhukXH",
        "colab": {
          "base_uri": "https://localhost:8080/"
        },
        "outputId": "fc54caeb-7fa1-4048-995c-e9d5384b61a3"
      },
      "id": "ct3-vVAhukXH",
      "execution_count": null,
      "outputs": [
        {
          "output_type": "execute_result",
          "data": {
            "text/plain": [
              "True"
            ]
          },
          "metadata": {},
          "execution_count": 56
        }
      ]
    },
    {
      "cell_type": "code",
      "source": [
        "True + True / False"
      ],
      "metadata": {
        "colab": {
          "base_uri": "https://localhost:8080/",
          "height": 141
        },
        "id": "Okk25BSQ9WGz",
        "outputId": "481dc1fd-5cdf-4007-9752-a9e4d2186e72"
      },
      "id": "Okk25BSQ9WGz",
      "execution_count": null,
      "outputs": [
        {
          "output_type": "error",
          "ename": "ZeroDivisionError",
          "evalue": "division by zero",
          "traceback": [
            "\u001b[0;31m---------------------------------------------------------------------------\u001b[0m",
            "\u001b[0;31mZeroDivisionError\u001b[0m                         Traceback (most recent call last)",
            "\u001b[0;32m/tmp/ipython-input-943513773.py\u001b[0m in \u001b[0;36m<cell line: 0>\u001b[0;34m()\u001b[0m\n\u001b[0;32m----> 1\u001b[0;31m \u001b[0;32mTrue\u001b[0m \u001b[0;34m+\u001b[0m \u001b[0;32mTrue\u001b[0m \u001b[0;34m/\u001b[0m \u001b[0;32mFalse\u001b[0m\u001b[0;34m\u001b[0m\u001b[0;34m\u001b[0m\u001b[0m\n\u001b[0m",
            "\u001b[0;31mZeroDivisionError\u001b[0m: division by zero"
          ]
        }
      ]
    },
    {
      "cell_type": "code",
      "source": [
        "True == 1"
      ],
      "metadata": {
        "colab": {
          "base_uri": "https://localhost:8080/"
        },
        "id": "judBcyAC9dCB",
        "outputId": "be16478a-1e93-4ffa-87ef-c11f83c6f296"
      },
      "id": "judBcyAC9dCB",
      "execution_count": null,
      "outputs": [
        {
          "output_type": "execute_result",
          "data": {
            "text/plain": [
              "True"
            ]
          },
          "metadata": {},
          "execution_count": 58
        }
      ]
    },
    {
      "cell_type": "markdown",
      "source": [
        "`Casting` is also very important and will be used often. Casting is the conversion from one data type to another. (e.g. string to int)"
      ],
      "metadata": {
        "id": "llcgRxLcPWbJ"
      },
      "id": "llcgRxLcPWbJ"
    },
    {
      "cell_type": "code",
      "execution_count": null,
      "id": "homeless-monitor",
      "metadata": {
        "id": "homeless-monitor"
      },
      "outputs": [],
      "source": [
        "#-- In addition to changing the value of a variable, you can even change\n",
        "#-- the data type of a variable\n",
        "#-- In the below example we change a variable from being an int, to a float\n",
        "x = 10\n",
        "x = float(x)\n",
        "print(x)\n",
        "print(type(x))"
      ]
    },
    {
      "cell_type": "code",
      "execution_count": null,
      "id": "regular-piano",
      "metadata": {
        "id": "regular-piano",
        "colab": {
          "base_uri": "https://localhost:8080/"
        },
        "outputId": "2efdcc88-dff4-480f-a6bf-8c3cc44d82d3"
      },
      "outputs": [
        {
          "output_type": "stream",
          "name": "stdout",
          "text": [
            "10.0\n",
            "<class 'float'>\n"
          ]
        }
      ],
      "source": [
        "x = \"10\"\n",
        "x = float(x)\n",
        "print(x)\n",
        "print(type(x))"
      ]
    },
    {
      "cell_type": "code",
      "source": [
        "x = \"Not a number\"\n",
        "x = float(x)\n",
        "print(x)\n",
        "print(type(x))"
      ],
      "metadata": {
        "colab": {
          "base_uri": "https://localhost:8080/",
          "height": 193
        },
        "id": "-TrIRUykZFc5",
        "outputId": "6a355b16-3846-421f-e580-b74c6be09605"
      },
      "id": "-TrIRUykZFc5",
      "execution_count": null,
      "outputs": [
        {
          "output_type": "error",
          "ename": "ValueError",
          "evalue": "could not convert string to float: 'Not a number'",
          "traceback": [
            "\u001b[0;31m---------------------------------------------------------------------------\u001b[0m",
            "\u001b[0;31mValueError\u001b[0m                                Traceback (most recent call last)",
            "\u001b[0;32m/tmp/ipython-input-850292044.py\u001b[0m in \u001b[0;36m<cell line: 0>\u001b[0;34m()\u001b[0m\n\u001b[1;32m      1\u001b[0m \u001b[0mx\u001b[0m \u001b[0;34m=\u001b[0m \u001b[0;34m\"Not a number\"\u001b[0m\u001b[0;34m\u001b[0m\u001b[0;34m\u001b[0m\u001b[0m\n\u001b[0;32m----> 2\u001b[0;31m \u001b[0mx\u001b[0m \u001b[0;34m=\u001b[0m \u001b[0mfloat\u001b[0m\u001b[0;34m(\u001b[0m\u001b[0mx\u001b[0m\u001b[0;34m)\u001b[0m\u001b[0;34m\u001b[0m\u001b[0;34m\u001b[0m\u001b[0m\n\u001b[0m\u001b[1;32m      3\u001b[0m \u001b[0mprint\u001b[0m\u001b[0;34m(\u001b[0m\u001b[0mx\u001b[0m\u001b[0;34m)\u001b[0m\u001b[0;34m\u001b[0m\u001b[0;34m\u001b[0m\u001b[0m\n\u001b[1;32m      4\u001b[0m \u001b[0mprint\u001b[0m\u001b[0;34m(\u001b[0m\u001b[0mtype\u001b[0m\u001b[0;34m(\u001b[0m\u001b[0mx\u001b[0m\u001b[0;34m)\u001b[0m\u001b[0;34m)\u001b[0m\u001b[0;34m\u001b[0m\u001b[0;34m\u001b[0m\u001b[0m\n",
            "\u001b[0;31mValueError\u001b[0m: could not convert string to float: 'Not a number'"
          ]
        }
      ]
    },
    {
      "cell_type": "code",
      "execution_count": null,
      "id": "preceding-guard",
      "metadata": {
        "id": "preceding-guard",
        "colab": {
          "base_uri": "https://localhost:8080/"
        },
        "outputId": "2dd46512-018d-46d2-e30b-7321074fb68a"
      },
      "outputs": [
        {
          "output_type": "stream",
          "name": "stdout",
          "text": [
            "10\n",
            "<class 'int'>\n"
          ]
        }
      ],
      "source": [
        "x = \"10\"\n",
        "x = int(float(x))\n",
        "print(x)\n",
        "print(type(x))"
      ]
    },
    {
      "cell_type": "code",
      "source": [
        "num = 10.0\n",
        "num = str(num)\n",
        "type(num)"
      ],
      "metadata": {
        "colab": {
          "base_uri": "https://localhost:8080/"
        },
        "id": "rBrVUszT1sI2",
        "outputId": "553900ee-0a6a-40ba-d63d-ff459acbfab4"
      },
      "id": "rBrVUszT1sI2",
      "execution_count": null,
      "outputs": [
        {
          "output_type": "execute_result",
          "data": {
            "text/plain": [
              "str"
            ]
          },
          "metadata": {},
          "execution_count": 65
        }
      ]
    },
    {
      "cell_type": "code",
      "execution_count": null,
      "id": "killing-jacksonville",
      "metadata": {
        "id": "killing-jacksonville"
      },
      "outputs": [],
      "source": [
        "x = True\n",
        "x = float(x)\n",
        "print(x)\n",
        "print(type(x))"
      ]
    },
    {
      "cell_type": "code",
      "source": [
        "True + 1"
      ],
      "metadata": {
        "id": "w8O2vnjQuBqm"
      },
      "id": "w8O2vnjQuBqm",
      "execution_count": null,
      "outputs": []
    },
    {
      "cell_type": "code",
      "execution_count": null,
      "id": "daily-barbados",
      "metadata": {
        "id": "daily-barbados"
      },
      "outputs": [],
      "source": [
        "x = False\n",
        "x = int(x)\n",
        "print(x)\n",
        "print(type(x))"
      ]
    },
    {
      "cell_type": "code",
      "execution_count": null,
      "id": "young-bikini",
      "metadata": {
        "id": "young-bikini"
      },
      "outputs": [],
      "source": [
        "x = 10\n",
        "y = 5\n",
        "z = x + y\n",
        "print(z)"
      ]
    },
    {
      "cell_type": "code",
      "source": [
        "x = 15"
      ],
      "metadata": {
        "id": "MLauVW5QuJsI"
      },
      "id": "MLauVW5QuJsI",
      "execution_count": null,
      "outputs": []
    },
    {
      "cell_type": "code",
      "source": [
        "z"
      ],
      "metadata": {
        "id": "GYAtITYguK3H"
      },
      "id": "GYAtITYguK3H",
      "execution_count": null,
      "outputs": []
    },
    {
      "cell_type": "code",
      "execution_count": null,
      "id": "secondary-numbers",
      "metadata": {
        "id": "secondary-numbers"
      },
      "outputs": [],
      "source": [
        "x = 100\n",
        "print(z)"
      ]
    },
    {
      "cell_type": "code",
      "execution_count": null,
      "id": "organic-thumb",
      "metadata": {
        "scrolled": true,
        "id": "organic-thumb"
      },
      "outputs": [],
      "source": [
        "#-- Python is leniant in operations between data types compared to\n",
        "#-- some languages, however you cannot add Strings and Numeric data!\n",
        "#-- You can complete operations between ints and floats though\n",
        "x = \"10\"\n",
        "y = 5\n",
        "z = x + y\n",
        "print(z)"
      ]
    },
    {
      "cell_type": "code",
      "execution_count": null,
      "id": "stuffed-killer",
      "metadata": {
        "id": "stuffed-killer"
      },
      "outputs": [],
      "source": [
        "#-- Though this looks funky, you are simply assigning a boolean to Z\n",
        "x = 10\n",
        "y = 20\n",
        "z = x == y #-- False\n",
        "print(z)"
      ]
    },
    {
      "cell_type": "code",
      "execution_count": null,
      "id": "fossil-theory",
      "metadata": {
        "id": "fossil-theory"
      },
      "outputs": [],
      "source": [
        "#-- It is useful sometimes to check if data types are same or different\n",
        "type(x) == type(y)"
      ]
    },
    {
      "cell_type": "code",
      "execution_count": null,
      "id": "bearing-funds",
      "metadata": {
        "id": "bearing-funds"
      },
      "outputs": [],
      "source": [
        "#-- You can also test if a type is of a specified type\n",
        "type(x) == str"
      ]
    },
    {
      "cell_type": "code",
      "execution_count": null,
      "id": "metallic-integration",
      "metadata": {
        "id": "metallic-integration",
        "colab": {
          "base_uri": "https://localhost:8080/"
        },
        "outputId": "53a6e987-ec44-429c-9c9c-1d389d22defc"
      },
      "outputs": [
        {
          "output_type": "execute_result",
          "data": {
            "text/plain": [
              "False"
            ]
          },
          "metadata": {},
          "execution_count": 66
        }
      ],
      "source": [
        "type(x) == float"
      ]
    },
    {
      "cell_type": "code",
      "execution_count": null,
      "id": "revised-corner",
      "metadata": {
        "id": "revised-corner"
      },
      "outputs": [],
      "source": [
        "type(x) == int"
      ]
    },
    {
      "cell_type": "code",
      "execution_count": null,
      "id": "broken-pipeline",
      "metadata": {
        "id": "broken-pipeline"
      },
      "outputs": [],
      "source": [
        "x = 20\n",
        "y = 20\n",
        "z = x == y\n",
        "print(z)"
      ]
    },
    {
      "cell_type": "code",
      "execution_count": null,
      "id": "fixed-consent",
      "metadata": {
        "id": "fixed-consent"
      },
      "outputs": [],
      "source": [
        "x = 20\n",
        "y = 20.0\n",
        "z = x == y\n",
        "print(z)"
      ]
    },
    {
      "cell_type": "code",
      "execution_count": null,
      "id": "controlled-canon",
      "metadata": {
        "id": "controlled-canon",
        "colab": {
          "base_uri": "https://localhost:8080/"
        },
        "outputId": "86e528e5-fd82-4c81-ed34-7a6133fbcf84"
      },
      "outputs": [
        {
          "output_type": "stream",
          "name": "stdout",
          "text": [
            "True\n"
          ]
        }
      ],
      "source": [
        "x = 20\n",
        "y = 20.0\n",
        "z = x == y\n",
        "print(z)"
      ]
    },
    {
      "cell_type": "code",
      "source": [
        "x = None"
      ],
      "metadata": {
        "id": "M14rQ3-muxAz"
      },
      "id": "M14rQ3-muxAz",
      "execution_count": null,
      "outputs": []
    },
    {
      "cell_type": "markdown",
      "id": "approximate-radius",
      "metadata": {
        "id": "approximate-radius"
      },
      "source": [
        "##### Data Strutures: Lists, and tuples\n"
      ]
    },
    {
      "cell_type": "markdown",
      "source": [
        "`Lists` and `tuples` are extremely useful. You will almost certaintly find yourselves using lists far often than tuples. In my professional experience I could probably count the number of times I have used a tuple on one hand. Below are some key differences:\n",
        "\n",
        "|Data structure | Properties| Syntax|\n",
        "|----|----|----|\n",
        "|List | Ordered, mutable sequence | mylist = [1,2,3] |\n",
        "|Tuple | Ordered, immutable sequence | mytuple = (1,2,3) |\n",
        "|Set | Unordered set of unique values | {1,2,3} |\n",
        "|Dictionary | Mutable set of key, value pairs | mydict = {'first_value':1, 'second_value:2} |\n",
        "\n",
        "Source and deeper explanation:\n",
        "https://realpython.com/python-lists-tuples/\n",
        "\n",
        "Below are some properties of different Python data structures\n",
        "\n",
        "`Lists`:\n",
        "- Lists are defined with square brackets (e.g. [])\n",
        "- Lists are ordered.\n",
        "- Lists can contain any arbitrary objects (any data types)\n",
        "- List elements can be accessed by index.\n",
        "- Lists can be nested to arbitrary depth.\n",
        "- Lists are mutable. (e.g. you can alter data)\n",
        "- Lists are dynamic. (e.g. you can add data)\n",
        "\n",
        "`Tuples`:\n",
        "- Tuples are defined with parenthesis (e.g. ())\n",
        "- Tuples are ordered.\n",
        "- Tuples can contain any arbitrary objects (any data types)\n",
        "- Tuples elements can be accessed by index.\n",
        "- Tuples can be nested to arbitrary depth.\n",
        "- Tuples are immutable. (e.g. you canot alter data)\n",
        "- Tuples are dynamic. (e.g. you can add data)\n",
        "`sets`:\n",
        "- sets are defined with `set()` or squigly brackets `{}`\n",
        "- sets are not really ordered\n",
        "- sets can contain any data types, but can't really contain data structures\n",
        "- sets can be accessed by index, by ordering is inconsistent\n",
        "- sets are mutable\n",
        "- sets are dynamic\n",
        "\n",
        "So, why use a Tuple over a list?\n",
        "\n",
        "Source: https://www.simplilearn.com/difference-between-list-and-tuple-in-python-article#:~:text=Tuples%20are%20allocated%20large%20blocks,a%20large%20number%20of%20elements.\n",
        "\n",
        "`Tuples` are allocated large blocks of memory with lower overhead than lists because they are `immutable`; whereas for lists, small memory blocks are allocated. Thus, tuples tend to be faster than lists when there are a large number of elements.\n",
        "Different Use Cases\n",
        "Python's lists are best suited to store data in the following situations:\n",
        "\n",
        "Several types of data can be stored in lists, and their index can be used to access them.\n",
        "`Lists` are good for mathematical operations on a group of elements because Python allows you to perform these operations directly on the list.\n",
        "If you don't know how many elements will be stored in your list ahead of time, it's easy to increase or decrease its size as needed.\n",
        "Python's tuples are best suited to store data in the following situations:\n",
        "\n",
        "It’s best to use a tuple when you know the exact information that will go into the object's fields.\n",
        "For example, if you want to store credentials for your website, it’s okay to use a tuple.\n",
        "The `tuples` are immutable (unchangeable), so they can only be used as keys for `dictionaries`. But if you want to use a list as a key, make it into a tuple first."
      ],
      "metadata": {
        "id": "KvTPeuQmLKoP"
      },
      "id": "KvTPeuQmLKoP"
    },
    {
      "cell_type": "code",
      "source": [
        "x = (1,2,3)\n",
        "x[0] = 100"
      ],
      "metadata": {
        "colab": {
          "base_uri": "https://localhost:8080/",
          "height": 158
        },
        "id": "kdlaX_R5LgFV",
        "outputId": "8d870196-4ad8-42f3-99eb-0642018e1963"
      },
      "id": "kdlaX_R5LgFV",
      "execution_count": null,
      "outputs": [
        {
          "output_type": "error",
          "ename": "TypeError",
          "evalue": "'tuple' object does not support item assignment",
          "traceback": [
            "\u001b[0;31m---------------------------------------------------------------------------\u001b[0m",
            "\u001b[0;31mTypeError\u001b[0m                                 Traceback (most recent call last)",
            "\u001b[0;32m/tmp/ipython-input-465685399.py\u001b[0m in \u001b[0;36m<cell line: 0>\u001b[0;34m()\u001b[0m\n\u001b[1;32m      1\u001b[0m \u001b[0mx\u001b[0m \u001b[0;34m=\u001b[0m \u001b[0;34m(\u001b[0m\u001b[0;36m1\u001b[0m\u001b[0;34m,\u001b[0m\u001b[0;36m2\u001b[0m\u001b[0;34m,\u001b[0m\u001b[0;36m3\u001b[0m\u001b[0;34m)\u001b[0m\u001b[0;34m\u001b[0m\u001b[0;34m\u001b[0m\u001b[0m\n\u001b[0;32m----> 2\u001b[0;31m \u001b[0mx\u001b[0m\u001b[0;34m[\u001b[0m\u001b[0;36m0\u001b[0m\u001b[0;34m]\u001b[0m \u001b[0;34m=\u001b[0m \u001b[0;36m100\u001b[0m\u001b[0;34m\u001b[0m\u001b[0;34m\u001b[0m\u001b[0m\n\u001b[0m",
            "\u001b[0;31mTypeError\u001b[0m: 'tuple' object does not support item assignment"
          ]
        }
      ]
    },
    {
      "cell_type": "code",
      "execution_count": null,
      "id": "global-conjunction",
      "metadata": {
        "id": "global-conjunction"
      },
      "outputs": [],
      "source": [
        "#-- A quick note on variable naming convention... See rules above\n",
        "variables_can_be_named_anything_btw = [10,14,11,20]"
      ]
    },
    {
      "cell_type": "code",
      "execution_count": null,
      "id": "liberal-watershed",
      "metadata": {
        "id": "liberal-watershed",
        "colab": {
          "base_uri": "https://localhost:8080/"
        },
        "outputId": "cfa40c09-6670-46c0-caf3-144a6ca19b57"
      },
      "outputs": [
        {
          "output_type": "stream",
          "name": "stdout",
          "text": [
            "<class 'list'>\n"
          ]
        }
      ],
      "source": [
        "print(type(variables_can_be_named_anything_btw))"
      ]
    },
    {
      "cell_type": "code",
      "execution_count": null,
      "id": "incredible-flight",
      "metadata": {
        "id": "incredible-flight",
        "colab": {
          "base_uri": "https://localhost:8080/"
        },
        "outputId": "dcd1dfe9-11e2-43ae-fa2f-120b813adba9"
      },
      "outputs": [
        {
          "output_type": "execute_result",
          "data": {
            "text/plain": [
              "True"
            ]
          },
          "metadata": {},
          "execution_count": 72
        }
      ],
      "source": [
        "type(variables_can_be_named_anything_btw) == list"
      ]
    },
    {
      "cell_type": "code",
      "execution_count": null,
      "id": "hollow-church",
      "metadata": {
        "id": "hollow-church"
      },
      "outputs": [],
      "source": [
        "well_not_anything = [10,14,11,20]"
      ]
    },
    {
      "cell_type": "code",
      "execution_count": null,
      "id": "french-princeton",
      "metadata": {
        "id": "french-princeton"
      },
      "outputs": [],
      "source": [
        "1well_not_anything = [10,14,11,20]"
      ]
    },
    {
      "cell_type": "code",
      "source": [
        "list_a = [1,2,3,4,1]"
      ],
      "metadata": {
        "id": "_qGXz-WN1taX"
      },
      "id": "_qGXz-WN1taX",
      "execution_count": null,
      "outputs": []
    },
    {
      "cell_type": "code",
      "source": [
        "len(list_a)"
      ],
      "metadata": {
        "id": "P8lRGi1G7--O",
        "colab": {
          "base_uri": "https://localhost:8080/"
        },
        "outputId": "cc751a8a-cd57-4056-b3e9-6b943bdf082d"
      },
      "id": "P8lRGi1G7--O",
      "execution_count": null,
      "outputs": [
        {
          "output_type": "execute_result",
          "data": {
            "text/plain": [
              "5"
            ]
          },
          "metadata": {},
          "execution_count": 74
        }
      ]
    },
    {
      "cell_type": "code",
      "source": [
        "list(set(list_a))"
      ],
      "metadata": {
        "id": "k52sxoaD1waS"
      },
      "id": "k52sxoaD1waS",
      "execution_count": null,
      "outputs": []
    },
    {
      "cell_type": "code",
      "source": [],
      "metadata": {
        "id": "aooq05Uv1wc4"
      },
      "id": "aooq05Uv1wc4",
      "execution_count": null,
      "outputs": []
    },
    {
      "cell_type": "markdown",
      "source": [
        "###### A quick note on `indexing` v. `slicing`\n",
        "Additional Details: https://railsware.com/blog/indexing-and-slicing-for-lists-tuples-strings-sequential-types/#Indexing\n",
        "\n",
        "`Indexing`:\n",
        "Python uses zero-based indexing. That means, the first element(value ‘red’) has an index 0, the second(value ‘green’) has index 1, and so on. You can also use negative indexing which can be useful to access items at the end of a list without worrying about passing an \"out of bounds\" index, or iterate over a list in reverse. For a list with 3 items list[2] == list[-1]. Since lists are mutable, it should be noted that you can change a value using indexing, or slicing.\n",
        "![image.png](data:image/png;base64,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)\n",
        "\n",
        "\n",
        "\n",
        "`Slicing`: As it was shown, indexing allows you to access/change/delete only a single cell of a list. What if we want to get a sublist of the list. Or we want to update a bunch of cells at once? Or we want to go on a frenzy and extend a list with an arbitrary number of new cells in any position?\n",
        "\n",
        "\n"
      ],
      "metadata": {
        "id": "_I-mJWkvk6eL"
      },
      "id": "_I-mJWkvk6eL"
    },
    {
      "cell_type": "markdown",
      "source": [
        "##### Indexing"
      ],
      "metadata": {
        "id": "LgHeQcvIk14u"
      },
      "id": "LgHeQcvIk14u"
    },
    {
      "cell_type": "code",
      "execution_count": 1,
      "id": "failing-brunswick",
      "metadata": {
        "id": "failing-brunswick",
        "colab": {
          "base_uri": "https://localhost:8080/"
        },
        "outputId": "ffee46c3-c7ce-4863-c8cc-5f828f217de0"
      },
      "outputs": [
        {
          "output_type": "execute_result",
          "data": {
            "text/plain": [
              "2"
            ]
          },
          "metadata": {},
          "execution_count": 1
        }
      ],
      "source": [
        "x = [1,2,3]\n",
        "x[1]"
      ]
    },
    {
      "cell_type": "code",
      "execution_count": 2,
      "id": "dense-pencil",
      "metadata": {
        "id": "dense-pencil",
        "colab": {
          "base_uri": "https://localhost:8080/"
        },
        "outputId": "dcb20622-14ff-4962-940e-c4861c15583c"
      },
      "outputs": [
        {
          "output_type": "execute_result",
          "data": {
            "text/plain": [
              "3"
            ]
          },
          "metadata": {},
          "execution_count": 2
        }
      ],
      "source": [
        "x = [1,2,3]\n",
        "x[2]"
      ]
    },
    {
      "cell_type": "code",
      "execution_count": 3,
      "id": "imperial-converter",
      "metadata": {
        "id": "imperial-converter",
        "colab": {
          "base_uri": "https://localhost:8080/"
        },
        "outputId": "4207ae58-ffe0-41ca-d758-a4531fd914df"
      },
      "outputs": [
        {
          "output_type": "stream",
          "name": "stdout",
          "text": [
            "1\n"
          ]
        }
      ],
      "source": [
        "x = [1,2,3]\n",
        "print(x[0])"
      ]
    },
    {
      "cell_type": "code",
      "source": [
        "x[3]"
      ],
      "metadata": {
        "id": "sTR8fyzD6lV-",
        "outputId": "5ae7ee66-e100-42b7-a91e-33d36d300535",
        "colab": {
          "base_uri": "https://localhost:8080/",
          "height": 141
        }
      },
      "id": "sTR8fyzD6lV-",
      "execution_count": 4,
      "outputs": [
        {
          "output_type": "error",
          "ename": "IndexError",
          "evalue": "list index out of range",
          "traceback": [
            "\u001b[0;31m---------------------------------------------------------------------------\u001b[0m",
            "\u001b[0;31mIndexError\u001b[0m                                Traceback (most recent call last)",
            "\u001b[0;32m/tmp/ipython-input-2145826956.py\u001b[0m in \u001b[0;36m<cell line: 0>\u001b[0;34m()\u001b[0m\n\u001b[0;32m----> 1\u001b[0;31m \u001b[0mx\u001b[0m\u001b[0;34m[\u001b[0m\u001b[0;36m3\u001b[0m\u001b[0;34m]\u001b[0m\u001b[0;34m\u001b[0m\u001b[0;34m\u001b[0m\u001b[0m\n\u001b[0m",
            "\u001b[0;31mIndexError\u001b[0m: list index out of range"
          ]
        }
      ]
    },
    {
      "cell_type": "code",
      "execution_count": 5,
      "id": "advanced-oklahoma",
      "metadata": {
        "id": "advanced-oklahoma",
        "colab": {
          "base_uri": "https://localhost:8080/"
        },
        "outputId": "8dee8336-7780-40a9-e675-e706c1a2ab46"
      },
      "outputs": [
        {
          "output_type": "stream",
          "name": "stdout",
          "text": [
            "[1, 10, 3]\n"
          ]
        }
      ],
      "source": [
        "x = [1,2,3]\n",
        "x[1] = 10\n",
        "print(x)"
      ]
    },
    {
      "cell_type": "code",
      "execution_count": 6,
      "id": "apart-double",
      "metadata": {
        "id": "apart-double",
        "colab": {
          "base_uri": "https://localhost:8080/"
        },
        "outputId": "4ad8e85e-2fde-4072-924b-6889cbceaa3a"
      },
      "outputs": [
        {
          "output_type": "stream",
          "name": "stdout",
          "text": [
            "[1, 2, 5]\n"
          ]
        }
      ],
      "source": [
        "x = [1,2,3]\n",
        "x[2] = x[1] + 3\n",
        "print(x)"
      ]
    },
    {
      "cell_type": "code",
      "source": [
        "x"
      ],
      "metadata": {
        "colab": {
          "base_uri": "https://localhost:8080/"
        },
        "id": "ucKwuQUCIcEx",
        "outputId": "4ce3756b-fcd5-4a68-990b-af8fc5074a85"
      },
      "id": "ucKwuQUCIcEx",
      "execution_count": 7,
      "outputs": [
        {
          "output_type": "execute_result",
          "data": {
            "text/plain": [
              "[1, 2, 5]"
            ]
          },
          "metadata": {},
          "execution_count": 7
        }
      ]
    },
    {
      "cell_type": "code",
      "source": [
        "print(x[4])"
      ],
      "metadata": {
        "id": "Ppvgk6BrnNEl",
        "colab": {
          "base_uri": "https://localhost:8080/",
          "height": 141
        },
        "outputId": "333fe2d3-e46c-4887-bef2-f42137e4ae2f"
      },
      "id": "Ppvgk6BrnNEl",
      "execution_count": 8,
      "outputs": [
        {
          "output_type": "error",
          "ename": "IndexError",
          "evalue": "list index out of range",
          "traceback": [
            "\u001b[0;31m---------------------------------------------------------------------------\u001b[0m",
            "\u001b[0;31mIndexError\u001b[0m                                Traceback (most recent call last)",
            "\u001b[0;32m/tmp/ipython-input-1197934095.py\u001b[0m in \u001b[0;36m<cell line: 0>\u001b[0;34m()\u001b[0m\n\u001b[0;32m----> 1\u001b[0;31m \u001b[0mprint\u001b[0m\u001b[0;34m(\u001b[0m\u001b[0mx\u001b[0m\u001b[0;34m[\u001b[0m\u001b[0;36m4\u001b[0m\u001b[0;34m]\u001b[0m\u001b[0;34m)\u001b[0m\u001b[0;34m\u001b[0m\u001b[0;34m\u001b[0m\u001b[0m\n\u001b[0m",
            "\u001b[0;31mIndexError\u001b[0m: list index out of range"
          ]
        }
      ]
    },
    {
      "cell_type": "markdown",
      "source": [
        "##### Slicing"
      ],
      "metadata": {
        "id": "iPSIwzGUm-W9"
      },
      "id": "iPSIwzGUm-W9"
    },
    {
      "cell_type": "code",
      "source": [
        "x = [1,2,3,4,5,6,7,8,9,10]\n",
        "print(x[0:5])"
      ],
      "metadata": {
        "id": "tpEGojOVnAm7",
        "colab": {
          "base_uri": "https://localhost:8080/"
        },
        "outputId": "9776c282-38a9-4bb2-cdd9-20dfc29fcdbf"
      },
      "id": "tpEGojOVnAm7",
      "execution_count": 9,
      "outputs": [
        {
          "output_type": "stream",
          "name": "stdout",
          "text": [
            "[1, 2, 3, 4, 5]\n"
          ]
        }
      ]
    },
    {
      "cell_type": "code",
      "source": [
        "x[5:-1]"
      ],
      "metadata": {
        "id": "5v-ewzxt7lIu",
        "colab": {
          "base_uri": "https://localhost:8080/"
        },
        "outputId": "2ac378a3-51bb-4fc7-88af-0bdd3b968f0b"
      },
      "id": "5v-ewzxt7lIu",
      "execution_count": 10,
      "outputs": [
        {
          "output_type": "execute_result",
          "data": {
            "text/plain": [
              "[6, 7, 8, 9]"
            ]
          },
          "metadata": {},
          "execution_count": 10
        }
      ]
    },
    {
      "cell_type": "markdown",
      "source": [
        "##### Other list operations"
      ],
      "metadata": {
        "id": "AlCHARGOnJlb"
      },
      "id": "AlCHARGOnJlb"
    },
    {
      "cell_type": "code",
      "source": [
        "x"
      ],
      "metadata": {
        "id": "3xnHyk-975F0",
        "colab": {
          "base_uri": "https://localhost:8080/"
        },
        "outputId": "f05f104b-e7da-43b5-e1d2-df2ccfdbb258"
      },
      "id": "3xnHyk-975F0",
      "execution_count": 11,
      "outputs": [
        {
          "output_type": "execute_result",
          "data": {
            "text/plain": [
              "[1, 2, 3, 4, 5, 6, 7, 8, 9, 10]"
            ]
          },
          "metadata": {},
          "execution_count": 11
        }
      ]
    },
    {
      "cell_type": "code",
      "source": [
        "\"10\" * 3"
      ],
      "metadata": {
        "colab": {
          "base_uri": "https://localhost:8080/",
          "height": 35
        },
        "id": "_Vk1oCcYJpn-",
        "outputId": "c26a2e70-6373-4403-92c7-8b6554b9f32d"
      },
      "id": "_Vk1oCcYJpn-",
      "execution_count": 12,
      "outputs": [
        {
          "output_type": "execute_result",
          "data": {
            "text/plain": [
              "'101010'"
            ],
            "application/vnd.google.colaboratory.intrinsic+json": {
              "type": "string"
            }
          },
          "metadata": {},
          "execution_count": 12
        }
      ]
    },
    {
      "cell_type": "code",
      "execution_count": 13,
      "id": "mysterious-stationery",
      "metadata": {
        "id": "mysterious-stationery",
        "outputId": "626da754-5609-4516-d512-4726bf84a65c",
        "colab": {
          "base_uri": "https://localhost:8080/"
        }
      },
      "outputs": [
        {
          "output_type": "execute_result",
          "data": {
            "text/plain": [
              "[1,\n",
              " 2,\n",
              " 3,\n",
              " 4,\n",
              " 5,\n",
              " 6,\n",
              " 7,\n",
              " 8,\n",
              " 9,\n",
              " 10,\n",
              " 1,\n",
              " 2,\n",
              " 3,\n",
              " 4,\n",
              " 5,\n",
              " 6,\n",
              " 7,\n",
              " 8,\n",
              " 9,\n",
              " 10,\n",
              " 1,\n",
              " 2,\n",
              " 3,\n",
              " 4,\n",
              " 5,\n",
              " 6,\n",
              " 7,\n",
              " 8,\n",
              " 9,\n",
              " 10]"
            ]
          },
          "metadata": {},
          "execution_count": 13
        }
      ],
      "source": [
        "x * 3"
      ]
    },
    {
      "cell_type": "code",
      "execution_count": 14,
      "id": "presidential-shelf",
      "metadata": {
        "id": "presidential-shelf",
        "colab": {
          "base_uri": "https://localhost:8080/",
          "height": 141
        },
        "outputId": "0655f38c-df24-4095-ee23-7bf5fe4d7cac"
      },
      "outputs": [
        {
          "output_type": "error",
          "ename": "TypeError",
          "evalue": "unsupported operand type(s) for /: 'list' and 'int'",
          "traceback": [
            "\u001b[0;31m---------------------------------------------------------------------------\u001b[0m",
            "\u001b[0;31mTypeError\u001b[0m                                 Traceback (most recent call last)",
            "\u001b[0;32m/tmp/ipython-input-290709173.py\u001b[0m in \u001b[0;36m<cell line: 0>\u001b[0;34m()\u001b[0m\n\u001b[0;32m----> 1\u001b[0;31m \u001b[0mx\u001b[0m \u001b[0;34m/\u001b[0m \u001b[0;36m2\u001b[0m\u001b[0;34m\u001b[0m\u001b[0;34m\u001b[0m\u001b[0m\n\u001b[0m",
            "\u001b[0;31mTypeError\u001b[0m: unsupported operand type(s) for /: 'list' and 'int'"
          ]
        }
      ],
      "source": [
        "x / 2"
      ]
    },
    {
      "cell_type": "code",
      "execution_count": 15,
      "id": "direct-matthew",
      "metadata": {
        "id": "direct-matthew",
        "colab": {
          "base_uri": "https://localhost:8080/"
        },
        "outputId": "48f5d133-2ea3-40c1-f083-d415c7fdf4fe"
      },
      "outputs": [
        {
          "output_type": "stream",
          "name": "stdout",
          "text": [
            "[1, 2, 3, 4, 5, 6]\n"
          ]
        }
      ],
      "source": [
        "x = [1,2,3]\n",
        "y = [4,5,6]\n",
        "print( x + y)"
      ]
    },
    {
      "cell_type": "code",
      "source": [
        "z = [[1,2,3], [4,5,6]]\n",
        "len(z)"
      ],
      "metadata": {
        "id": "fNWyzHHd3nYK",
        "colab": {
          "base_uri": "https://localhost:8080/"
        },
        "outputId": "450f2c85-eab1-4867-9bff-07a7ef96f180"
      },
      "id": "fNWyzHHd3nYK",
      "execution_count": 16,
      "outputs": [
        {
          "output_type": "execute_result",
          "data": {
            "text/plain": [
              "2"
            ]
          },
          "metadata": {},
          "execution_count": 16
        }
      ]
    },
    {
      "cell_type": "code",
      "source": [
        "z[0][2]"
      ],
      "metadata": {
        "colab": {
          "base_uri": "https://localhost:8080/"
        },
        "id": "GO-2R_TgKAAM",
        "outputId": "1f7d2b6c-e29f-46aa-91d3-aae7112562f0"
      },
      "id": "GO-2R_TgKAAM",
      "execution_count": 17,
      "outputs": [
        {
          "output_type": "execute_result",
          "data": {
            "text/plain": [
              "3"
            ]
          },
          "metadata": {},
          "execution_count": 17
        }
      ]
    },
    {
      "cell_type": "code",
      "source": [
        "len(x)"
      ],
      "metadata": {
        "id": "CkBQJtTF325W",
        "outputId": "a9d8d7af-616d-4d6e-8c92-2413a06f0863",
        "colab": {
          "base_uri": "https://localhost:8080/"
        }
      },
      "id": "CkBQJtTF325W",
      "execution_count": 18,
      "outputs": [
        {
          "output_type": "execute_result",
          "data": {
            "text/plain": [
              "3"
            ]
          },
          "metadata": {},
          "execution_count": 18
        }
      ]
    },
    {
      "cell_type": "code",
      "source": [
        "y"
      ],
      "metadata": {
        "id": "mRYRIRpV8e_G",
        "outputId": "2ebf4f4a-dfc8-4de5-d3ee-5c0c63629570",
        "colab": {
          "base_uri": "https://localhost:8080/"
        }
      },
      "id": "mRYRIRpV8e_G",
      "execution_count": 19,
      "outputs": [
        {
          "output_type": "execute_result",
          "data": {
            "text/plain": [
              "[4, 5, 6]"
            ]
          },
          "metadata": {},
          "execution_count": 19
        }
      ]
    },
    {
      "cell_type": "code",
      "execution_count": 20,
      "id": "introductory-bosnia",
      "metadata": {
        "id": "introductory-bosnia"
      },
      "outputs": [],
      "source": [
        "x.append(y)"
      ]
    },
    {
      "cell_type": "code",
      "source": [
        "x + y"
      ],
      "metadata": {
        "id": "KnmssctE8jHa",
        "outputId": "8301de11-bfca-411a-82f1-a9f907f72900",
        "colab": {
          "base_uri": "https://localhost:8080/"
        }
      },
      "id": "KnmssctE8jHa",
      "execution_count": 21,
      "outputs": [
        {
          "output_type": "execute_result",
          "data": {
            "text/plain": [
              "[1, 2, 3, [4, 5, 6], 4, 5, 6]"
            ]
          },
          "metadata": {},
          "execution_count": 21
        }
      ]
    },
    {
      "cell_type": "code",
      "source": [
        "x"
      ],
      "metadata": {
        "id": "AlyYP5aV8hQ2",
        "outputId": "146633d4-682e-437d-82ab-a65f44bacade",
        "colab": {
          "base_uri": "https://localhost:8080/"
        }
      },
      "id": "AlyYP5aV8hQ2",
      "execution_count": 22,
      "outputs": [
        {
          "output_type": "execute_result",
          "data": {
            "text/plain": [
              "[1, 2, 3, [4, 5, 6]]"
            ]
          },
          "metadata": {},
          "execution_count": 22
        }
      ]
    },
    {
      "cell_type": "code",
      "source": [
        "z[0][2]"
      ],
      "metadata": {
        "id": "1AVXjcy_5P5C",
        "outputId": "6da17927-75aa-4065-f098-090baad2fb2d",
        "colab": {
          "base_uri": "https://localhost:8080/"
        }
      },
      "id": "1AVXjcy_5P5C",
      "execution_count": 24,
      "outputs": [
        {
          "output_type": "execute_result",
          "data": {
            "text/plain": [
              "3"
            ]
          },
          "metadata": {},
          "execution_count": 24
        }
      ]
    },
    {
      "cell_type": "code",
      "source": [
        "x[2][0]"
      ],
      "metadata": {
        "id": "rFjb7lped-oL",
        "outputId": "31082a6f-cde9-47d3-afe7-9bcacc64fe2e",
        "colab": {
          "base_uri": "https://localhost:8080/",
          "height": 141
        }
      },
      "id": "rFjb7lped-oL",
      "execution_count": 25,
      "outputs": [
        {
          "output_type": "error",
          "ename": "TypeError",
          "evalue": "'int' object is not subscriptable",
          "traceback": [
            "\u001b[0;31m---------------------------------------------------------------------------\u001b[0m",
            "\u001b[0;31mTypeError\u001b[0m                                 Traceback (most recent call last)",
            "\u001b[0;32m/tmp/ipython-input-2777595713.py\u001b[0m in \u001b[0;36m<cell line: 0>\u001b[0;34m()\u001b[0m\n\u001b[0;32m----> 1\u001b[0;31m \u001b[0mx\u001b[0m\u001b[0;34m[\u001b[0m\u001b[0;36m2\u001b[0m\u001b[0;34m]\u001b[0m\u001b[0;34m[\u001b[0m\u001b[0;36m0\u001b[0m\u001b[0;34m]\u001b[0m\u001b[0;34m\u001b[0m\u001b[0;34m\u001b[0m\u001b[0m\n\u001b[0m",
            "\u001b[0;31mTypeError\u001b[0m: 'int' object is not subscriptable"
          ]
        }
      ]
    },
    {
      "cell_type": "code",
      "execution_count": 26,
      "id": "continental-exemption",
      "metadata": {
        "id": "continental-exemption"
      },
      "outputs": [],
      "source": [
        "#-- A brief overview of tuples\n",
        "x = (1,2,3)"
      ]
    },
    {
      "cell_type": "code",
      "execution_count": 27,
      "id": "polished-argentina",
      "metadata": {
        "id": "polished-argentina",
        "outputId": "28d7a9fe-c08b-49e8-dcc5-31b8f59e8424",
        "colab": {
          "base_uri": "https://localhost:8080/"
        }
      },
      "outputs": [
        {
          "output_type": "execute_result",
          "data": {
            "text/plain": [
              "True"
            ]
          },
          "metadata": {},
          "execution_count": 27
        }
      ],
      "source": [
        "type(x) == tuple"
      ]
    },
    {
      "cell_type": "code",
      "execution_count": 28,
      "id": "secure-booking",
      "metadata": {
        "id": "secure-booking",
        "outputId": "d24b532c-c248-4b27-ebfe-403d67e92af8",
        "colab": {
          "base_uri": "https://localhost:8080/"
        }
      },
      "outputs": [
        {
          "output_type": "execute_result",
          "data": {
            "text/plain": [
              "2"
            ]
          },
          "metadata": {},
          "execution_count": 28
        }
      ],
      "source": [
        "#-- Indexing works the same as lists...\n",
        "x[1]"
      ]
    },
    {
      "cell_type": "code",
      "execution_count": 29,
      "id": "drawn-conviction",
      "metadata": {
        "id": "drawn-conviction",
        "outputId": "694b5ed3-8839-48de-83b6-21e27103090c",
        "colab": {
          "base_uri": "https://localhost:8080/",
          "height": 176
        }
      },
      "outputs": [
        {
          "output_type": "error",
          "ename": "TypeError",
          "evalue": "'tuple' object does not support item assignment",
          "traceback": [
            "\u001b[0;31m---------------------------------------------------------------------------\u001b[0m",
            "\u001b[0;31mTypeError\u001b[0m                                 Traceback (most recent call last)",
            "\u001b[0;32m/tmp/ipython-input-3423223750.py\u001b[0m in \u001b[0;36m<cell line: 0>\u001b[0;34m()\u001b[0m\n\u001b[1;32m      3\u001b[0m \u001b[0;31m#----- Because they can be faster... but in truth, you will probably\u001b[0m\u001b[0;34m\u001b[0m\u001b[0;34m\u001b[0m\u001b[0m\n\u001b[1;32m      4\u001b[0m \u001b[0;31m#----- almost never use tuples.\u001b[0m\u001b[0;34m\u001b[0m\u001b[0;34m\u001b[0m\u001b[0m\n\u001b[0;32m----> 5\u001b[0;31m \u001b[0mx\u001b[0m\u001b[0;34m[\u001b[0m\u001b[0;36m1\u001b[0m\u001b[0;34m]\u001b[0m \u001b[0;34m=\u001b[0m \u001b[0;36m100\u001b[0m\u001b[0;34m\u001b[0m\u001b[0;34m\u001b[0m\u001b[0m\n\u001b[0m",
            "\u001b[0;31mTypeError\u001b[0m: 'tuple' object does not support item assignment"
          ]
        }
      ],
      "source": [
        "#-- Key difference is, do not try and change (mutate) a tuple!\n",
        "#-- So if this is the case.... why would anyone ever use a tuple?\n",
        "#----- Because they can be faster... but in truth, you will probably\n",
        "#----- almost never use tuples.\n",
        "x[1] = 100"
      ]
    },
    {
      "cell_type": "markdown",
      "source": [
        "This is probably a good time to begin discussing `functions` and `methods`. For now, the difference does not really matter, other than the fact that they are used differently...\n",
        "\n",
        "For some instances, there will be duplicative `methods` and `functions` as is the case of sorting a list.\n",
        "\n",
        "One very important thing to note in the case of list, is that all methods alter the list in place.\n",
        "\n",
        "Function is simply called, and you pass it an \"**argument**\"\n",
        "```\n",
        "#--- Function\n",
        "x = [1,2,3]\n",
        "sorted(x)\n",
        "```\n",
        "A method is called on the object (e.g. list in this case) itself\n",
        "```\n",
        "#--- Method\n",
        "x = [1,2,3]\n",
        "x.sort()\n",
        "```"
      ],
      "metadata": {
        "id": "TYAnpKEhPD6P"
      },
      "id": "TYAnpKEhPD6P"
    },
    {
      "cell_type": "code",
      "source": [
        "x = [4,3,2,1]\n",
        "sorted(x)"
      ],
      "metadata": {
        "id": "0tfY9Bte4g3h",
        "colab": {
          "base_uri": "https://localhost:8080/"
        },
        "outputId": "7a9c5696-c40d-4184-9cbd-17888c96c650"
      },
      "id": "0tfY9Bte4g3h",
      "execution_count": 30,
      "outputs": [
        {
          "output_type": "execute_result",
          "data": {
            "text/plain": [
              "[1, 2, 3, 4]"
            ]
          },
          "metadata": {},
          "execution_count": 30
        }
      ]
    },
    {
      "cell_type": "code",
      "source": [
        "x"
      ],
      "metadata": {
        "id": "suG5Ko5v9h0X",
        "outputId": "cf38e209-eb85-46d4-86a0-1280c31a68b4",
        "colab": {
          "base_uri": "https://localhost:8080/"
        }
      },
      "id": "suG5Ko5v9h0X",
      "execution_count": 31,
      "outputs": [
        {
          "output_type": "execute_result",
          "data": {
            "text/plain": [
              "[4, 3, 2, 1]"
            ]
          },
          "metadata": {},
          "execution_count": 31
        }
      ]
    },
    {
      "cell_type": "code",
      "source": [
        "x = [\"a\", \"x\", 2]\n",
        "sorted(x)"
      ],
      "metadata": {
        "id": "qn9iKYoL9Bby",
        "outputId": "5cec73cc-27bc-44bf-ef5a-c8a3afb37f03",
        "colab": {
          "base_uri": "https://localhost:8080/",
          "height": 158
        }
      },
      "id": "qn9iKYoL9Bby",
      "execution_count": 34,
      "outputs": [
        {
          "output_type": "error",
          "ename": "TypeError",
          "evalue": "'<' not supported between instances of 'int' and 'str'",
          "traceback": [
            "\u001b[0;31m---------------------------------------------------------------------------\u001b[0m",
            "\u001b[0;31mTypeError\u001b[0m                                 Traceback (most recent call last)",
            "\u001b[0;32m/tmp/ipython-input-2955827044.py\u001b[0m in \u001b[0;36m<cell line: 0>\u001b[0;34m()\u001b[0m\n\u001b[1;32m      1\u001b[0m \u001b[0mx\u001b[0m \u001b[0;34m=\u001b[0m \u001b[0;34m[\u001b[0m\u001b[0;34m\"a\"\u001b[0m\u001b[0;34m,\u001b[0m \u001b[0;34m\"x\"\u001b[0m\u001b[0;34m,\u001b[0m \u001b[0;36m2\u001b[0m\u001b[0;34m]\u001b[0m\u001b[0;34m\u001b[0m\u001b[0;34m\u001b[0m\u001b[0m\n\u001b[0;32m----> 2\u001b[0;31m \u001b[0msorted\u001b[0m\u001b[0;34m(\u001b[0m\u001b[0mx\u001b[0m\u001b[0;34m)\u001b[0m\u001b[0;34m\u001b[0m\u001b[0;34m\u001b[0m\u001b[0m\n\u001b[0m",
            "\u001b[0;31mTypeError\u001b[0m: '<' not supported between instances of 'int' and 'str'"
          ]
        }
      ]
    },
    {
      "cell_type": "code",
      "source": [
        "x = [4,3,2,1]\n",
        "sorted(x)"
      ],
      "metadata": {
        "id": "b0ILzTUz9GUB",
        "colab": {
          "base_uri": "https://localhost:8080/"
        },
        "outputId": "deda90d6-6075-489a-950d-bf890841d30e"
      },
      "id": "b0ILzTUz9GUB",
      "execution_count": 33,
      "outputs": [
        {
          "output_type": "execute_result",
          "data": {
            "text/plain": [
              "[1, 2, 3, 4]"
            ]
          },
          "metadata": {},
          "execution_count": 33
        }
      ]
    },
    {
      "cell_type": "code",
      "source": [
        "x"
      ],
      "metadata": {
        "colab": {
          "base_uri": "https://localhost:8080/"
        },
        "id": "SsS08ky-LAv2",
        "outputId": "3e3b2a81-bc2d-4a2d-8826-040441a85ea3"
      },
      "id": "SsS08ky-LAv2",
      "execution_count": 35,
      "outputs": [
        {
          "output_type": "execute_result",
          "data": {
            "text/plain": [
              "['a', 'x', 2]"
            ]
          },
          "metadata": {},
          "execution_count": 35
        }
      ]
    },
    {
      "cell_type": "code",
      "source": [],
      "metadata": {
        "id": "n1Zqwi1YLAx5"
      },
      "id": "n1Zqwi1YLAx5",
      "execution_count": null,
      "outputs": []
    },
    {
      "cell_type": "code",
      "source": [],
      "metadata": {
        "id": "jfQpCn3zLAz_"
      },
      "id": "jfQpCn3zLAz_",
      "execution_count": null,
      "outputs": []
    },
    {
      "cell_type": "code",
      "source": [
        "x = [4,3,2,1]\n",
        "x = x.sort()"
      ],
      "metadata": {
        "id": "16LMkDJD4kbW"
      },
      "id": "16LMkDJD4kbW",
      "execution_count": 36,
      "outputs": []
    },
    {
      "cell_type": "code",
      "source": [
        "x"
      ],
      "metadata": {
        "id": "yYjDFvShLMq4"
      },
      "id": "yYjDFvShLMq4",
      "execution_count": 37,
      "outputs": []
    },
    {
      "cell_type": "code",
      "source": [
        "x"
      ],
      "metadata": {
        "id": "LT14FH8qK_4I"
      },
      "id": "LT14FH8qK_4I",
      "execution_count": 38,
      "outputs": []
    },
    {
      "cell_type": "code",
      "source": [
        "x"
      ],
      "metadata": {
        "id": "sIKl7bnl4mw0"
      },
      "id": "sIKl7bnl4mw0",
      "execution_count": 39,
      "outputs": []
    },
    {
      "cell_type": "code",
      "source": [
        "len(x)"
      ],
      "metadata": {
        "id": "QHmLxQFL4yaj",
        "outputId": "4d5eca1a-dcf5-40e8-9e5e-958f721a367d",
        "colab": {
          "base_uri": "https://localhost:8080/",
          "height": 141
        }
      },
      "id": "QHmLxQFL4yaj",
      "execution_count": 40,
      "outputs": [
        {
          "output_type": "error",
          "ename": "TypeError",
          "evalue": "object of type 'NoneType' has no len()",
          "traceback": [
            "\u001b[0;31m---------------------------------------------------------------------------\u001b[0m",
            "\u001b[0;31mTypeError\u001b[0m                                 Traceback (most recent call last)",
            "\u001b[0;32m/tmp/ipython-input-619855596.py\u001b[0m in \u001b[0;36m<cell line: 0>\u001b[0;34m()\u001b[0m\n\u001b[0;32m----> 1\u001b[0;31m \u001b[0mlen\u001b[0m\u001b[0;34m(\u001b[0m\u001b[0mx\u001b[0m\u001b[0;34m)\u001b[0m\u001b[0;34m\u001b[0m\u001b[0;34m\u001b[0m\u001b[0m\n\u001b[0m",
            "\u001b[0;31mTypeError\u001b[0m: object of type 'NoneType' has no len()"
          ]
        }
      ]
    },
    {
      "cell_type": "code",
      "source": [
        "x = [1,2,3]"
      ],
      "metadata": {
        "id": "5qUEmiL3KaZ_"
      },
      "id": "5qUEmiL3KaZ_",
      "execution_count": 41,
      "outputs": []
    },
    {
      "cell_type": "code",
      "source": [
        "sum(x)"
      ],
      "metadata": {
        "id": "DRC7J3PM-CoV",
        "colab": {
          "base_uri": "https://localhost:8080/"
        },
        "outputId": "1f158a57-7530-4ba7-f98d-54edfc8053b7"
      },
      "id": "DRC7J3PM-CoV",
      "execution_count": 42,
      "outputs": [
        {
          "output_type": "execute_result",
          "data": {
            "text/plain": [
              "6"
            ]
          },
          "metadata": {},
          "execution_count": 42
        }
      ]
    },
    {
      "cell_type": "code",
      "source": [
        "x.sum()"
      ],
      "metadata": {
        "id": "qGE1ziyZ-HhZ",
        "outputId": "45d3bee9-0832-4308-acd0-ccbd087c986a",
        "colab": {
          "base_uri": "https://localhost:8080/",
          "height": 141
        }
      },
      "id": "qGE1ziyZ-HhZ",
      "execution_count": 43,
      "outputs": [
        {
          "output_type": "error",
          "ename": "AttributeError",
          "evalue": "'list' object has no attribute 'sum'",
          "traceback": [
            "\u001b[0;31m---------------------------------------------------------------------------\u001b[0m",
            "\u001b[0;31mAttributeError\u001b[0m                            Traceback (most recent call last)",
            "\u001b[0;32m/tmp/ipython-input-2925620302.py\u001b[0m in \u001b[0;36m<cell line: 0>\u001b[0;34m()\u001b[0m\n\u001b[0;32m----> 1\u001b[0;31m \u001b[0mx\u001b[0m\u001b[0;34m.\u001b[0m\u001b[0msum\u001b[0m\u001b[0;34m(\u001b[0m\u001b[0;34m)\u001b[0m\u001b[0;34m\u001b[0m\u001b[0;34m\u001b[0m\u001b[0m\n\u001b[0m",
            "\u001b[0;31mAttributeError\u001b[0m: 'list' object has no attribute 'sum'"
          ]
        }
      ]
    },
    {
      "cell_type": "markdown",
      "source": [
        "Python Built-In List Functions and Methods\n",
        "\n",
        "Functions\n",
        "\n",
        "Methods\n",
        "Source and additional information:\n",
        "https://www.w3schools.com/python/python_ref_list.asp\n",
        "\n",
        "|List Methods | Description|\n",
        "|----|----|\n",
        "|append()|\tAdds an element at the end of the list|\n",
        "|clear()|\tRemoves all the elements from the list|\n",
        "|copy()|\tReturns a copy of the list|\n",
        "|count()|\tReturns the number of elements with the specified value|\n",
        "|extend()|\tAdd the elements of a list (or any iterable), to the end of the current list|\n",
        "|index()|\tReturns the index of the first element with the specified value|\n",
        "|insert()|\tAdds an element at the specified position|\n",
        "|pop()|\tRemoves the element at the specified position|\n",
        "|remove()|\tRemoves the first item with the specified value|\n",
        "|reverse()|\tReverses the order of the list|\n",
        "|sort()|\tSorts the list|\n",
        "\n",
        "\n",
        "Built-In Functions Useful for Lists\n",
        "\n",
        "|List Functions | Description|\n",
        "|----|----|\n",
        "| sorted() | Sorts a list |\n",
        "| reversed() | Reverses a list, needs to be casted back to list type |\n",
        "| sum() | Sums the items in a list |\n",
        "| len() | computes the length of the list |\n",
        "\n"
      ],
      "metadata": {
        "id": "5TSd-9IsRAEg"
      },
      "id": "5TSd-9IsRAEg"
    },
    {
      "cell_type": "code",
      "source": [
        "#-- There are also many useful functions for lists and tuples\n",
        "\n",
        "#- To sum a list\n",
        "x = [1,2,3,4,5]\n",
        "print(sum(x))"
      ],
      "metadata": {
        "id": "VhYGwx5WIAOU",
        "outputId": "d185d045-0631-49fb-f777-315344a40ed7",
        "colab": {
          "base_uri": "https://localhost:8080/"
        }
      },
      "id": "VhYGwx5WIAOU",
      "execution_count": 44,
      "outputs": [
        {
          "output_type": "stream",
          "name": "stdout",
          "text": [
            "15\n"
          ]
        }
      ]
    },
    {
      "cell_type": "code",
      "source": [
        "#- To find how many items in a list\n",
        "x = [1,2,3,4,5]\n",
        "print(len(x))"
      ],
      "metadata": {
        "id": "DiiK7cJUIAQ5",
        "outputId": "ba4a8890-8d8f-4676-89f7-2b51bd157fb2",
        "colab": {
          "base_uri": "https://localhost:8080/"
        }
      },
      "id": "DiiK7cJUIAQ5",
      "execution_count": 45,
      "outputs": [
        {
          "output_type": "stream",
          "name": "stdout",
          "text": [
            "5\n"
          ]
        }
      ]
    },
    {
      "cell_type": "code",
      "source": [
        "#- To sort a list with a Function\n",
        "#- Note that the data is returned\n",
        "x = [10, 3, 27, 1, 5]\n",
        "print(sorted(x))\n"
      ],
      "metadata": {
        "id": "WFq1rrEEIKym",
        "outputId": "67495027-4050-479e-a3ce-3c1e100a5c5c",
        "colab": {
          "base_uri": "https://localhost:8080/"
        }
      },
      "id": "WFq1rrEEIKym",
      "execution_count": 46,
      "outputs": [
        {
          "output_type": "stream",
          "name": "stdout",
          "text": [
            "[1, 3, 5, 10, 27]\n"
          ]
        }
      ]
    },
    {
      "cell_type": "code",
      "source": [
        "x = [10, 3, 27, 1, 5]\n",
        "print(sorted(x, reverse=True))"
      ],
      "metadata": {
        "id": "r6ST4H1wfFBq",
        "outputId": "33dde70e-6edc-4e78-aa4d-26f695b30fda",
        "colab": {
          "base_uri": "https://localhost:8080/"
        }
      },
      "id": "r6ST4H1wfFBq",
      "execution_count": 47,
      "outputs": [
        {
          "output_type": "stream",
          "name": "stdout",
          "text": [
            "[27, 10, 5, 3, 1]\n"
          ]
        }
      ]
    },
    {
      "cell_type": "code",
      "source": [
        "#- Lets try the same thing with the sort method\n",
        "x = [10, 3, 27, 1, 5]\n",
        "print(x.sort())\n",
        "print(x)"
      ],
      "metadata": {
        "id": "rcd8tpD3QpZ5",
        "outputId": "76083feb-e6ed-4267-c3ae-c7fbfefb7a0b",
        "colab": {
          "base_uri": "https://localhost:8080/"
        }
      },
      "id": "rcd8tpD3QpZ5",
      "execution_count": 48,
      "outputs": [
        {
          "output_type": "stream",
          "name": "stdout",
          "text": [
            "None\n",
            "[1, 3, 5, 10, 27]\n"
          ]
        }
      ]
    },
    {
      "cell_type": "code",
      "source": [
        "#- Notice that it returned none...\n",
        "#- This is because methods alter data in place!\n",
        "\n",
        "x = [10, 3, 27, 1, 5]\n",
        "x.sort()\n",
        "print(x)"
      ],
      "metadata": {
        "id": "JTUo8SxpQuKV",
        "outputId": "a1756626-3b4f-4743-8f7e-ef586615134a",
        "colab": {
          "base_uri": "https://localhost:8080/"
        }
      },
      "id": "JTUo8SxpQuKV",
      "execution_count": 49,
      "outputs": [
        {
          "output_type": "stream",
          "name": "stdout",
          "text": [
            "[1, 3, 5, 10, 27]\n"
          ]
        }
      ]
    },
    {
      "cell_type": "code",
      "source": [
        "x = [\"b. this\",\"e. ?\", \"d. sorted\", \"c. list\", \"a. Is\" ]\n",
        "print(sorted(x))"
      ],
      "metadata": {
        "id": "0pvQRd9YQLRZ",
        "outputId": "6110a4d6-a517-4f90-bfb2-9be5d48b0c95",
        "colab": {
          "base_uri": "https://localhost:8080/"
        }
      },
      "id": "0pvQRd9YQLRZ",
      "execution_count": 50,
      "outputs": [
        {
          "output_type": "stream",
          "name": "stdout",
          "text": [
            "['a. Is', 'b. this', 'c. list', 'd. sorted', 'e. ?']\n"
          ]
        }
      ]
    },
    {
      "cell_type": "code",
      "source": [
        "x = [\"b. this\",\"e. ?\", \"d. sorted\", \"c. list\", \"a. Is\", \"B. eh?\" ]\n",
        "print(sorted(x))"
      ],
      "metadata": {
        "id": "piJ_S4aSfRm9",
        "outputId": "f99af92e-6015-4801-e11f-bd79ad93eb41",
        "colab": {
          "base_uri": "https://localhost:8080/"
        }
      },
      "id": "piJ_S4aSfRm9",
      "execution_count": 51,
      "outputs": [
        {
          "output_type": "stream",
          "name": "stdout",
          "text": [
            "['B. eh?', 'a. Is', 'b. this', 'c. list', 'd. sorted', 'e. ?']\n"
          ]
        }
      ]
    },
    {
      "cell_type": "code",
      "source": [
        "#- To reverse a list\n",
        "x = [10, 3, 27, 1, 5]\n",
        "print(list(reversed(x)))"
      ],
      "metadata": {
        "id": "yXNoEmCfIK1c",
        "outputId": "1317e9f6-d283-4c15-dbf3-4f3bc40c9402",
        "colab": {
          "base_uri": "https://localhost:8080/"
        }
      },
      "id": "yXNoEmCfIK1c",
      "execution_count": 52,
      "outputs": [
        {
          "output_type": "stream",
          "name": "stdout",
          "text": [
            "[5, 1, 27, 3, 10]\n"
          ]
        }
      ]
    },
    {
      "cell_type": "code",
      "source": [
        "#- which can then be applied to reverse sort...\n",
        "x = [10, 3, 27, 1, 5]\n",
        "print(list(reversed(sorted(x))))"
      ],
      "metadata": {
        "id": "h8CqBuRqIK3y",
        "outputId": "d813b9fa-c1c1-47ca-e1a9-c629d8a72033",
        "colab": {
          "base_uri": "https://localhost:8080/"
        }
      },
      "id": "h8CqBuRqIK3y",
      "execution_count": 53,
      "outputs": [
        {
          "output_type": "stream",
          "name": "stdout",
          "text": [
            "[27, 10, 5, 3, 1]\n"
          ]
        }
      ]
    },
    {
      "cell_type": "code",
      "source": [
        "#-- To append to the end of a list. Note this function does the operation in\n",
        "#-- place, which is a little differenc than how most functions work\n",
        "x = [1,2,3,4]\n",
        "x.append(5)\n",
        "print(x)"
      ],
      "metadata": {
        "id": "HbhXyjKtOBfZ",
        "outputId": "0bb6ac61-bce9-4e5d-c812-adc20b40780e",
        "colab": {
          "base_uri": "https://localhost:8080/"
        }
      },
      "id": "HbhXyjKtOBfZ",
      "execution_count": 55,
      "outputs": [
        {
          "output_type": "stream",
          "name": "stdout",
          "text": [
            "[1, 2, 3, 4, 5]\n"
          ]
        }
      ]
    },
    {
      "cell_type": "markdown",
      "id": "constant-immigration",
      "metadata": {
        "id": "constant-immigration"
      },
      "source": [
        "##### Data Structures: `Dictionary`"
      ]
    },
    {
      "cell_type": "markdown",
      "source": [
        "`Dictionaries` are one of the most powerful and important data structures you will use in programming and Pandas DataFrames, which you will learn more about next class, are built off of these.\n",
        "\n",
        "`Dictionaries`:\n",
        "- Dictionaries are mutable.\n",
        "- Dictionaries are dynamic. They can grow and shrink as needed.\n",
        "- Dictionaries can be nested. A dictionary can contain another dictionary. A dictionary can also contain a list, and vice versa.\n",
        "- Dictionaries are accessed using their \"keys\". Dictionaries are based on Key, value pairs\n",
        "\n",
        "Built-In Dictionary Methods\n",
        "Source: https://www.w3schools.com/python/python_ref_dictionary.asp\n",
        "\n",
        "|Method | Description |\n",
        "|---|---|\n",
        "|clear()|\tRemoves all the elements from the dictionary|\n",
        "|copy() |\tReturns a copy of the dictionary|\n",
        "|fromkeys()\t|Returns a dictionary with the specified keys and value|\n",
        "|get() | Returns the value of the specified key|\n",
        "|items() |\tReturns a list containing a tuple for each key value pair|\n",
        "|keys()\t| Returns a list containing the dictionary's keys|\n",
        "|pop()\t| Removes the element with the specified key|\n",
        "|popitem()\t| Removes the last inserted key-value pair|\n",
        "|setdefault()\t| Returns the value of the specified key. If the key does not exist: insert the key, with the specified value|\n",
        "|update()\t| Updates the dictionary with the specified key-value pairs|\n",
        "|values()\t| Returns a list of all the values in the dictionary|"
      ],
      "metadata": {
        "id": "on9uVQoHMxcM"
      },
      "id": "on9uVQoHMxcM"
    },
    {
      "cell_type": "code",
      "source": [
        "x = \"10\"\n",
        "x = int(x)\n",
        "x = type(x)\n",
        "print(x)\n"
      ],
      "metadata": {
        "id": "casl9iW3BZC-",
        "outputId": "ffa05364-486e-43d4-c89b-d85830c23b66",
        "colab": {
          "base_uri": "https://localhost:8080/"
        }
      },
      "id": "casl9iW3BZC-",
      "execution_count": 56,
      "outputs": [
        {
          "output_type": "stream",
          "name": "stdout",
          "text": [
            "<class 'int'>\n"
          ]
        }
      ]
    },
    {
      "cell_type": "code",
      "source": [],
      "metadata": {
        "id": "3PwdUTbzBJu3"
      },
      "id": "3PwdUTbzBJu3",
      "execution_count": null,
      "outputs": []
    },
    {
      "cell_type": "code",
      "execution_count": 57,
      "id": "administrative-wagon",
      "metadata": {
        "id": "administrative-wagon"
      },
      "outputs": [],
      "source": [
        "DNSC_6303 = {\n",
        "    #Key            :  value\n",
        "    \"Name\"          : \"Intro to Programming\",\n",
        "    \"num_students\"  : 50,\n",
        "}"
      ]
    },
    {
      "cell_type": "code",
      "source": [
        "DNSC_6303 = {\"Name\": \"Intro to Programming\",\"num_students\" :50,\n",
        "}"
      ],
      "metadata": {
        "id": "pRnhdERLA1Va"
      },
      "id": "pRnhdERLA1Va",
      "execution_count": 58,
      "outputs": []
    },
    {
      "cell_type": "code",
      "source": [
        "DNSC_6303[0]"
      ],
      "metadata": {
        "id": "T5R_o8bw-nW3",
        "colab": {
          "base_uri": "https://localhost:8080/",
          "height": 141
        },
        "outputId": "12e28cf4-6a48-458c-c27f-2866e7820769"
      },
      "id": "T5R_o8bw-nW3",
      "execution_count": 59,
      "outputs": [
        {
          "output_type": "error",
          "ename": "KeyError",
          "evalue": "0",
          "traceback": [
            "\u001b[0;31m---------------------------------------------------------------------------\u001b[0m",
            "\u001b[0;31mKeyError\u001b[0m                                  Traceback (most recent call last)",
            "\u001b[0;32m/tmp/ipython-input-1822217994.py\u001b[0m in \u001b[0;36m<cell line: 0>\u001b[0;34m()\u001b[0m\n\u001b[0;32m----> 1\u001b[0;31m \u001b[0mDNSC_6303\u001b[0m\u001b[0;34m[\u001b[0m\u001b[0;36m0\u001b[0m\u001b[0;34m]\u001b[0m\u001b[0;34m\u001b[0m\u001b[0;34m\u001b[0m\u001b[0m\n\u001b[0m",
            "\u001b[0;31mKeyError\u001b[0m: 0"
          ]
        }
      ]
    },
    {
      "cell_type": "code",
      "execution_count": 60,
      "id": "offensive-renewal",
      "metadata": {
        "id": "offensive-renewal",
        "colab": {
          "base_uri": "https://localhost:8080/",
          "height": 35
        },
        "outputId": "44581454-159f-4e07-c730-0393631fbf78"
      },
      "outputs": [
        {
          "output_type": "execute_result",
          "data": {
            "text/plain": [
              "'Intro to Programming'"
            ],
            "application/vnd.google.colaboratory.intrinsic+json": {
              "type": "string"
            }
          },
          "metadata": {},
          "execution_count": 60
        }
      ],
      "source": [
        "DNSC_6303[\"Name\"]"
      ]
    },
    {
      "cell_type": "code",
      "execution_count": 61,
      "id": "recovered-infrastructure",
      "metadata": {
        "id": "recovered-infrastructure"
      },
      "outputs": [],
      "source": [
        "DNSC_6303[\"student_names\"] = [\"Jane\"] * DNSC_6303[\"num_students\"]"
      ]
    },
    {
      "cell_type": "code",
      "source": [
        "DNSC_6303[\"student_names\"]"
      ],
      "metadata": {
        "id": "8fkSUZWq_gsQ",
        "outputId": "fafbe37b-8a84-4cbc-f2d8-02b0e104944a",
        "colab": {
          "base_uri": "https://localhost:8080/"
        }
      },
      "id": "8fkSUZWq_gsQ",
      "execution_count": 62,
      "outputs": [
        {
          "output_type": "execute_result",
          "data": {
            "text/plain": [
              "['Jane',\n",
              " 'Jane',\n",
              " 'Jane',\n",
              " 'Jane',\n",
              " 'Jane',\n",
              " 'Jane',\n",
              " 'Jane',\n",
              " 'Jane',\n",
              " 'Jane',\n",
              " 'Jane',\n",
              " 'Jane',\n",
              " 'Jane',\n",
              " 'Jane',\n",
              " 'Jane',\n",
              " 'Jane',\n",
              " 'Jane',\n",
              " 'Jane',\n",
              " 'Jane',\n",
              " 'Jane',\n",
              " 'Jane',\n",
              " 'Jane',\n",
              " 'Jane',\n",
              " 'Jane',\n",
              " 'Jane',\n",
              " 'Jane',\n",
              " 'Jane',\n",
              " 'Jane',\n",
              " 'Jane',\n",
              " 'Jane',\n",
              " 'Jane',\n",
              " 'Jane',\n",
              " 'Jane',\n",
              " 'Jane',\n",
              " 'Jane',\n",
              " 'Jane',\n",
              " 'Jane',\n",
              " 'Jane',\n",
              " 'Jane',\n",
              " 'Jane',\n",
              " 'Jane',\n",
              " 'Jane',\n",
              " 'Jane',\n",
              " 'Jane',\n",
              " 'Jane',\n",
              " 'Jane',\n",
              " 'Jane',\n",
              " 'Jane',\n",
              " 'Jane',\n",
              " 'Jane',\n",
              " 'Jane']"
            ]
          },
          "metadata": {},
          "execution_count": 62
        }
      ]
    },
    {
      "cell_type": "code",
      "source": [
        "print(DNSC_6303)"
      ],
      "metadata": {
        "id": "uh7qyt9eg7KB",
        "colab": {
          "base_uri": "https://localhost:8080/"
        },
        "outputId": "2c047c25-5d3f-4901-c97e-51b56bbbd372"
      },
      "id": "uh7qyt9eg7KB",
      "execution_count": 63,
      "outputs": [
        {
          "output_type": "stream",
          "name": "stdout",
          "text": [
            "{'Name': 'Intro to Programming', 'num_students': 50, 'student_names': ['Jane', 'Jane', 'Jane', 'Jane', 'Jane', 'Jane', 'Jane', 'Jane', 'Jane', 'Jane', 'Jane', 'Jane', 'Jane', 'Jane', 'Jane', 'Jane', 'Jane', 'Jane', 'Jane', 'Jane', 'Jane', 'Jane', 'Jane', 'Jane', 'Jane', 'Jane', 'Jane', 'Jane', 'Jane', 'Jane', 'Jane', 'Jane', 'Jane', 'Jane', 'Jane', 'Jane', 'Jane', 'Jane', 'Jane', 'Jane', 'Jane', 'Jane', 'Jane', 'Jane', 'Jane', 'Jane', 'Jane', 'Jane', 'Jane', 'Jane']}\n"
          ]
        }
      ]
    },
    {
      "cell_type": "code",
      "source": [
        "DNSC_6303.keys()"
      ],
      "metadata": {
        "id": "FniwMX0-6kek",
        "colab": {
          "base_uri": "https://localhost:8080/"
        },
        "outputId": "736d76bf-fbee-4bd2-ddfa-ffd94a2a8a9b"
      },
      "id": "FniwMX0-6kek",
      "execution_count": 64,
      "outputs": [
        {
          "output_type": "execute_result",
          "data": {
            "text/plain": [
              "dict_keys(['Name', 'num_students', 'student_names'])"
            ]
          },
          "metadata": {},
          "execution_count": 64
        }
      ]
    },
    {
      "cell_type": "code",
      "source": [
        "DNSC_6303.values()"
      ],
      "metadata": {
        "id": "bGsqsHcU6kg3",
        "colab": {
          "base_uri": "https://localhost:8080/"
        },
        "outputId": "b6b495fa-69ff-43a9-9555-1bf53c97cbc6"
      },
      "id": "bGsqsHcU6kg3",
      "execution_count": 65,
      "outputs": [
        {
          "output_type": "execute_result",
          "data": {
            "text/plain": [
              "dict_values(['Intro to Programming', 50, ['Jane', 'Jane', 'Jane', 'Jane', 'Jane', 'Jane', 'Jane', 'Jane', 'Jane', 'Jane', 'Jane', 'Jane', 'Jane', 'Jane', 'Jane', 'Jane', 'Jane', 'Jane', 'Jane', 'Jane', 'Jane', 'Jane', 'Jane', 'Jane', 'Jane', 'Jane', 'Jane', 'Jane', 'Jane', 'Jane', 'Jane', 'Jane', 'Jane', 'Jane', 'Jane', 'Jane', 'Jane', 'Jane', 'Jane', 'Jane', 'Jane', 'Jane', 'Jane', 'Jane', 'Jane', 'Jane', 'Jane', 'Jane', 'Jane', 'Jane']])"
            ]
          },
          "metadata": {},
          "execution_count": 65
        }
      ]
    },
    {
      "cell_type": "code",
      "source": [
        "DNSC_6303.items()"
      ],
      "metadata": {
        "id": "x0FvNvNg6rS_",
        "colab": {
          "base_uri": "https://localhost:8080/"
        },
        "outputId": "4901c2a0-4b61-4370-c1d7-869b7dd47b67"
      },
      "id": "x0FvNvNg6rS_",
      "execution_count": 66,
      "outputs": [
        {
          "output_type": "execute_result",
          "data": {
            "text/plain": [
              "dict_items([('Name', 'Intro to Programming'), ('num_students', 50), ('student_names', ['Jane', 'Jane', 'Jane', 'Jane', 'Jane', 'Jane', 'Jane', 'Jane', 'Jane', 'Jane', 'Jane', 'Jane', 'Jane', 'Jane', 'Jane', 'Jane', 'Jane', 'Jane', 'Jane', 'Jane', 'Jane', 'Jane', 'Jane', 'Jane', 'Jane', 'Jane', 'Jane', 'Jane', 'Jane', 'Jane', 'Jane', 'Jane', 'Jane', 'Jane', 'Jane', 'Jane', 'Jane', 'Jane', 'Jane', 'Jane', 'Jane', 'Jane', 'Jane', 'Jane', 'Jane', 'Jane', 'Jane', 'Jane', 'Jane', 'Jane'])])"
            ]
          },
          "metadata": {},
          "execution_count": 66
        }
      ]
    },
    {
      "cell_type": "code",
      "execution_count": 67,
      "id": "eleven-airport",
      "metadata": {
        "id": "eleven-airport"
      },
      "outputs": [],
      "source": [
        "#DNSC_6303"
      ]
    },
    {
      "cell_type": "markdown",
      "id": "instrumental-champagne",
      "metadata": {
        "id": "instrumental-champagne"
      },
      "source": [
        "## 1.4 Control Flows: If-Statements and Loops\n",
        "\n"
      ]
    },
    {
      "cell_type": "markdown",
      "source": [
        "In Python, as in pretty much every programming language, there exist if-statements and various types of loops\n",
        "\n",
        "Python If-Statements and Loop Types\n",
        "- If-Else\n",
        "```\n",
        "if expression:\n",
        "    # execute these statements\n",
        "else:\n",
        "    # execute these statements\n",
        "```\n",
        "- For-Loop\n",
        "```\n",
        "for iterable:\n",
        "    # execute these statements\n",
        "```\n",
        "- While-Loop\n",
        "```\n",
        "while expression:\n",
        "    statement(s)\n",
        "```\n",
        "- While-Else\n",
        "```\n",
        "while condition:\n",
        "     # execute these statements\n",
        "else:\n",
        "     # execute these statements\n",
        "```"
      ],
      "metadata": {
        "id": "COvOIy4eLniN"
      },
      "id": "COvOIy4eLniN"
    },
    {
      "cell_type": "markdown",
      "id": "governing-leather",
      "metadata": {
        "id": "governing-leather"
      },
      "source": [
        "### If-Statements"
      ]
    },
    {
      "cell_type": "code",
      "source": [
        "behavior = 'Good Boy'\n",
        "if behavior == 'Good Boy':\n",
        "  pet = True"
      ],
      "metadata": {
        "id": "ZNA0P7GWP34V"
      },
      "id": "ZNA0P7GWP34V",
      "execution_count": 68,
      "outputs": []
    },
    {
      "cell_type": "code",
      "source": [
        "behavior = 'Good Boy'\n",
        "if behavior == 'Good Boy':\n",
        "  pet = True\n",
        "else:\n",
        "  pet = False"
      ],
      "metadata": {
        "id": "XlPWx3e2Qh-z"
      },
      "id": "XlPWx3e2Qh-z",
      "execution_count": 69,
      "outputs": []
    },
    {
      "cell_type": "code",
      "source": [
        "behavior = 'Bad'\n",
        "animal = 'Coral Snake'\n",
        "if animal == 'dog':\n",
        "  pet = True\n",
        "elif behavior == 'Good Boy':\n",
        "  pet = True\n",
        "else:\n",
        "  pet = False"
      ],
      "metadata": {
        "id": "2gMWFLJjQ2Mz"
      },
      "id": "2gMWFLJjQ2Mz",
      "execution_count": 70,
      "outputs": []
    },
    {
      "cell_type": "code",
      "source": [
        "pet"
      ],
      "metadata": {
        "colab": {
          "base_uri": "https://localhost:8080/"
        },
        "id": "vksz5JTCQiBW",
        "outputId": "2393766a-5641-4f69-b8dd-55efa4db5241"
      },
      "id": "vksz5JTCQiBW",
      "execution_count": 71,
      "outputs": [
        {
          "output_type": "execute_result",
          "data": {
            "text/plain": [
              "False"
            ]
          },
          "metadata": {},
          "execution_count": 71
        }
      ]
    },
    {
      "cell_type": "code",
      "source": [
        "behavior = 'Bad'\n",
        "animal = 'Coral Snake'\n",
        "pet = False\n",
        "if animal == 'dog':\n",
        "  if behavior == 'Good Boy':\n",
        "    pet = True"
      ],
      "metadata": {
        "id": "zem8hTE3RbwZ"
      },
      "id": "zem8hTE3RbwZ",
      "execution_count": 72,
      "outputs": []
    },
    {
      "cell_type": "code",
      "source": [
        "behavior = 'Bad'\n",
        "animal = 'Coral Snake'\n",
        "pet = False\n",
        "if (animal == 'dog') and (behavior == 'Good Boy'):\n",
        "    pet = True"
      ],
      "metadata": {
        "id": "VzrXaohyQiDs"
      },
      "id": "VzrXaohyQiDs",
      "execution_count": 73,
      "outputs": []
    },
    {
      "cell_type": "code",
      "source": [],
      "metadata": {
        "id": "WH2ST79WQiGI"
      },
      "id": "WH2ST79WQiGI",
      "execution_count": null,
      "outputs": []
    },
    {
      "cell_type": "code",
      "execution_count": 74,
      "id": "olive-acceptance",
      "metadata": {
        "id": "olive-acceptance"
      },
      "outputs": [],
      "source": [
        "\n",
        "\n",
        "#-----------\n",
        "#-- In the above case, it is equivalent to the below.\n",
        "#-- behavior == \"Good Boy\" equates to True\n",
        "\n",
        "if True:\n",
        "    pet = True\n",
        "else:\n",
        "    pet = False\n"
      ]
    },
    {
      "cell_type": "code",
      "source": [
        "behavior == \"Good Boy\""
      ],
      "metadata": {
        "id": "j4yQvzLCj7ke",
        "outputId": "1e3a0386-11a5-4704-a228-0ea3bc158822",
        "colab": {
          "base_uri": "https://localhost:8080/"
        }
      },
      "id": "j4yQvzLCj7ke",
      "execution_count": 75,
      "outputs": [
        {
          "output_type": "execute_result",
          "data": {
            "text/plain": [
              "False"
            ]
          },
          "metadata": {},
          "execution_count": 75
        }
      ]
    },
    {
      "cell_type": "code",
      "source": [
        "True or True"
      ],
      "metadata": {
        "id": "bfST7UMh-2nJ",
        "outputId": "760e196a-98a5-4649-ba9b-b1151f756263",
        "colab": {
          "base_uri": "https://localhost:8080/"
        }
      },
      "id": "bfST7UMh-2nJ",
      "execution_count": 76,
      "outputs": [
        {
          "output_type": "execute_result",
          "data": {
            "text/plain": [
              "True"
            ]
          },
          "metadata": {},
          "execution_count": 76
        }
      ]
    },
    {
      "cell_type": "code",
      "source": [
        "\n",
        "True or False"
      ],
      "metadata": {
        "id": "5YEUxh_cIwdT",
        "outputId": "6188d8c1-9618-42aa-86fc-bc833fb55598",
        "colab": {
          "base_uri": "https://localhost:8080/"
        }
      },
      "id": "5YEUxh_cIwdT",
      "execution_count": 77,
      "outputs": [
        {
          "output_type": "execute_result",
          "data": {
            "text/plain": [
              "True"
            ]
          },
          "metadata": {},
          "execution_count": 77
        }
      ]
    },
    {
      "cell_type": "code",
      "execution_count": 78,
      "id": "micro-buffalo",
      "metadata": {
        "id": "micro-buffalo",
        "outputId": "8ef70e4d-0e0d-4b68-e62d-c8be2ac25a0b",
        "colab": {
          "base_uri": "https://localhost:8080/"
        }
      },
      "outputs": [
        {
          "output_type": "stream",
          "name": "stdout",
          "text": [
            "False\n"
          ]
        }
      ],
      "source": [
        "behavior = \"Good Boy\"\n",
        "animal = \"Coral Snake\"\n",
        "if (behavior == \"Good Boy\") and (animal == \"Dog\"):\n",
        "    pet = True\n",
        "else:\n",
        "    pet = False\n",
        "print(pet)"
      ]
    },
    {
      "cell_type": "code",
      "execution_count": 79,
      "id": "mounted-bradford",
      "metadata": {
        "id": "mounted-bradford",
        "outputId": "8ef1690d-f88e-4eaf-ea48-60757267503d",
        "colab": {
          "base_uri": "https://localhost:8080/"
        }
      },
      "outputs": [
        {
          "output_type": "stream",
          "name": "stdout",
          "text": [
            "True\n"
          ]
        }
      ],
      "source": [
        "behavior = \"Good Boy\"\n",
        "animal = \"Hamster\"\n",
        "if (behavior == \"Good Boy\") and (animal != \"Coral Snake\"):\n",
        "    pet = True\n",
        "else:\n",
        "    pet = False\n",
        "print(pet)"
      ]
    },
    {
      "cell_type": "code",
      "execution_count": 80,
      "id": "dynamic-iraqi",
      "metadata": {
        "id": "dynamic-iraqi",
        "outputId": "0ece55b4-9c98-44bb-ad3e-82e110688dc2",
        "colab": {
          "base_uri": "https://localhost:8080/"
        }
      },
      "outputs": [
        {
          "output_type": "execute_result",
          "data": {
            "text/plain": [
              "True"
            ]
          },
          "metadata": {},
          "execution_count": 80
        }
      ],
      "source": [
        "(behavior == \"Good Boy\") and (animal != \"Coral Snake\")"
      ]
    },
    {
      "cell_type": "code",
      "source": [
        "False or True"
      ],
      "metadata": {
        "id": "F-L-CxkZ9_cX",
        "outputId": "d78b79af-0574-4766-8332-6ec9f683bab3",
        "colab": {
          "base_uri": "https://localhost:8080/"
        }
      },
      "id": "F-L-CxkZ9_cX",
      "execution_count": 81,
      "outputs": [
        {
          "output_type": "execute_result",
          "data": {
            "text/plain": [
              "True"
            ]
          },
          "metadata": {},
          "execution_count": 81
        }
      ]
    },
    {
      "cell_type": "code",
      "source": [
        "False and True"
      ],
      "metadata": {
        "id": "XKaVfPnikj24",
        "outputId": "1f63935e-e005-48ed-d493-8fa9a223a0db",
        "colab": {
          "base_uri": "https://localhost:8080/"
        }
      },
      "id": "XKaVfPnikj24",
      "execution_count": 82,
      "outputs": [
        {
          "output_type": "execute_result",
          "data": {
            "text/plain": [
              "False"
            ]
          },
          "metadata": {},
          "execution_count": 82
        }
      ]
    },
    {
      "cell_type": "code",
      "execution_count": 83,
      "id": "electric-shock",
      "metadata": {
        "id": "electric-shock",
        "outputId": "68b4dc94-49d4-483c-b715-c38a0f38858d",
        "colab": {
          "base_uri": "https://localhost:8080/"
        }
      },
      "outputs": [
        {
          "output_type": "execute_result",
          "data": {
            "text/plain": [
              "True"
            ]
          },
          "metadata": {},
          "execution_count": 83
        }
      ],
      "source": [
        "animal = \"Dog\"\n",
        "(behavior == \"Good Boy\") and (animal == \"Dog\")"
      ]
    },
    {
      "cell_type": "code",
      "execution_count": 84,
      "id": "textile-tunnel",
      "metadata": {
        "id": "textile-tunnel",
        "outputId": "602ae508-97a0-4ff6-8838-f9e2d3ca9085",
        "colab": {
          "base_uri": "https://localhost:8080/"
        }
      },
      "outputs": [
        {
          "output_type": "stream",
          "name": "stdout",
          "text": [
            "False\n"
          ]
        }
      ],
      "source": [
        "behavior = \"Good Boy\"\n",
        "animal = \"Coral Snake\"\n",
        "if (behavior == \"Good Boy\") and (animal != \"Coral Snake\"):\n",
        "    pet = True\n",
        "else:\n",
        "    pet = False\n",
        "print(pet)"
      ]
    },
    {
      "cell_type": "code",
      "execution_count": 85,
      "id": "arctic-problem",
      "metadata": {
        "id": "arctic-problem",
        "outputId": "4e966532-3b3b-466a-c93d-36f613f7273c",
        "colab": {
          "base_uri": "https://localhost:8080/",
          "height": 211
        }
      },
      "outputs": [
        {
          "output_type": "stream",
          "name": "stdout",
          "text": [
            "petting behavior is acceptable\n"
          ]
        },
        {
          "output_type": "error",
          "ename": "NameError",
          "evalue": "name 'ksdvbkjsdbv' is not defined",
          "traceback": [
            "\u001b[0;31m---------------------------------------------------------------------------\u001b[0m",
            "\u001b[0;31mNameError\u001b[0m                                 Traceback (most recent call last)",
            "\u001b[0;32m/tmp/ipython-input-4213429817.py\u001b[0m in \u001b[0;36m<cell line: 0>\u001b[0;34m()\u001b[0m\n\u001b[1;32m     10\u001b[0m \u001b[0;34m\u001b[0m\u001b[0m\n\u001b[1;32m     11\u001b[0m \u001b[0;34m\u001b[0m\u001b[0m\n\u001b[0;32m---> 12\u001b[0;31m \u001b[0mprint\u001b[0m\u001b[0;34m(\u001b[0m\u001b[0mksdvbkjsdbv\u001b[0m\u001b[0;34m)\u001b[0m\u001b[0;34m\u001b[0m\u001b[0;34m\u001b[0m\u001b[0m\n\u001b[0m\u001b[1;32m     13\u001b[0m \u001b[0mkjdsbvkjsdbv\u001b[0m\u001b[0;34m\u001b[0m\u001b[0;34m\u001b[0m\u001b[0m\n",
            "\u001b[0;31mNameError\u001b[0m: name 'ksdvbkjsdbv' is not defined"
          ]
        }
      ],
      "source": [
        "if animal == \"Dog\":\n",
        "    pet = True\n",
        "    print(\"petting because animal is dog\")\n",
        "elif behavior == \"Good Boy\":\n",
        "    pet = True\n",
        "    print(\"petting behavior is acceptable\")\n",
        "else:\n",
        "    pet = False\n",
        "\n",
        "\n",
        "\n",
        "print(ksdvbkjsdbv)\n",
        "kjdsbvkjsdbv"
      ]
    },
    {
      "cell_type": "code",
      "source": [
        "a = 10\n",
        "b = 15\n",
        "c = None\n",
        "if a > 5:\n",
        "  c = \"A\"\n",
        "c = \"B\"\n",
        "c"
      ],
      "metadata": {
        "colab": {
          "base_uri": "https://localhost:8080/",
          "height": 35
        },
        "id": "X0JBjlZlS81H",
        "outputId": "74c93b7d-238e-4517-ee21-43a29cbbe8f0"
      },
      "id": "X0JBjlZlS81H",
      "execution_count": 86,
      "outputs": [
        {
          "output_type": "execute_result",
          "data": {
            "text/plain": [
              "'B'"
            ],
            "application/vnd.google.colaboratory.intrinsic+json": {
              "type": "string"
            }
          },
          "metadata": {},
          "execution_count": 86
        }
      ]
    },
    {
      "cell_type": "code",
      "source": [
        "a = 10\n",
        "b = 15\n",
        "c = None\n",
        "if a > 5:\n",
        "  c = \"A\"\n",
        "\n",
        "\n",
        "\n",
        "if b > 5:\n",
        "  c = \"B\"\n",
        "else:\n",
        "  c = \"C\"\n",
        "c"
      ],
      "metadata": {
        "id": "LswRpMu7_xtH",
        "colab": {
          "base_uri": "https://localhost:8080/",
          "height": 35
        },
        "outputId": "170fd2b9-cb84-4732-9c53-a8e82e9262e5"
      },
      "id": "LswRpMu7_xtH",
      "execution_count": 87,
      "outputs": [
        {
          "output_type": "execute_result",
          "data": {
            "text/plain": [
              "'B'"
            ],
            "application/vnd.google.colaboratory.intrinsic+json": {
              "type": "string"
            }
          },
          "metadata": {},
          "execution_count": 87
        }
      ]
    },
    {
      "cell_type": "code",
      "execution_count": 88,
      "id": "acknowledged-purse",
      "metadata": {
        "id": "acknowledged-purse",
        "outputId": "2027854c-969c-4ca3-a4ec-a31648892e96",
        "colab": {
          "base_uri": "https://localhost:8080/"
        }
      },
      "outputs": [
        {
          "output_type": "execute_result",
          "data": {
            "text/plain": [
              "True"
            ]
          },
          "metadata": {},
          "execution_count": 88
        }
      ],
      "source": [
        "(True and False) or True"
      ]
    },
    {
      "cell_type": "code",
      "execution_count": 89,
      "id": "curious-softball",
      "metadata": {
        "id": "curious-softball",
        "outputId": "0339bae3-1ee6-427f-c586-66be81446d10",
        "colab": {
          "base_uri": "https://localhost:8080/"
        }
      },
      "outputs": [
        {
          "output_type": "execute_result",
          "data": {
            "text/plain": [
              "True"
            ]
          },
          "metadata": {},
          "execution_count": 89
        }
      ],
      "source": [
        "(True & False) | True"
      ]
    },
    {
      "cell_type": "code",
      "execution_count": 90,
      "id": "hispanic-independence",
      "metadata": {
        "id": "hispanic-independence",
        "outputId": "7843d0d4-dac4-4e74-9032-2446f72e9d74",
        "colab": {
          "base_uri": "https://localhost:8080/"
        }
      },
      "outputs": [
        {
          "output_type": "execute_result",
          "data": {
            "text/plain": [
              "False"
            ]
          },
          "metadata": {},
          "execution_count": 90
        }
      ],
      "source": [
        "((True & False) & True)"
      ]
    },
    {
      "cell_type": "code",
      "execution_count": 91,
      "id": "standing-ivory",
      "metadata": {
        "id": "standing-ivory",
        "outputId": "73370cc0-7c92-4ccb-d73f-88f598e78e65",
        "colab": {
          "base_uri": "https://localhost:8080/"
        }
      },
      "outputs": [
        {
          "output_type": "execute_result",
          "data": {
            "text/plain": [
              "True"
            ]
          },
          "metadata": {},
          "execution_count": 91
        }
      ],
      "source": [
        "(True | False) | True"
      ]
    },
    {
      "cell_type": "code",
      "execution_count": 92,
      "id": "official-crest",
      "metadata": {
        "id": "official-crest",
        "outputId": "6b3e1221-5f6b-4a29-c6eb-e70d992c4aaf",
        "colab": {
          "base_uri": "https://localhost:8080/"
        }
      },
      "outputs": [
        {
          "output_type": "execute_result",
          "data": {
            "text/plain": [
              "True"
            ]
          },
          "metadata": {},
          "execution_count": 92
        }
      ],
      "source": [
        "((True & False) | (True & True))"
      ]
    },
    {
      "cell_type": "code",
      "execution_count": 93,
      "id": "israeli-airport",
      "metadata": {
        "id": "israeli-airport",
        "outputId": "e008e70d-f95d-4410-8ff6-e53963308a05",
        "colab": {
          "base_uri": "https://localhost:8080/"
        }
      },
      "outputs": [
        {
          "output_type": "execute_result",
          "data": {
            "text/plain": [
              "False"
            ]
          },
          "metadata": {},
          "execution_count": 93
        }
      ],
      "source": [
        "((True & False) | (False & True))"
      ]
    },
    {
      "cell_type": "markdown",
      "id": "stretch-synthetic",
      "metadata": {
        "id": "stretch-synthetic"
      },
      "source": [
        "#### Boolean Operators\n",
        "\n",
        "\n",
        "| Symbol | Task Performed |\n",
        "|----|---|\n",
        "| == | True, if it is equal |\n",
        "| !=  | True, if not equal to |\n",
        "| < | less than |\n",
        "| <= | less than or equal to |\n",
        "| > | greater than |\n",
        "| >= | greater than or equal to |"
      ]
    },
    {
      "cell_type": "markdown",
      "id": "blind-floor",
      "metadata": {
        "id": "blind-floor"
      },
      "source": [
        "#### Combining Booleans\n",
        "| Operator | Meaning |\n",
        "| --- | --- |\n",
        "| and |Both/all boolean operators must be true |\n",
        "| & | Both/all boolean operators must be true |\n",
        "| or | Just one boolean operators must be true |\n",
        "| \\| | Just one boolean operators must be true |\n",
        "\n"
      ]
    },
    {
      "cell_type": "markdown",
      "id": "compatible-array",
      "metadata": {
        "id": "compatible-array"
      },
      "source": [
        "### For-Loop"
      ]
    },
    {
      "cell_type": "code",
      "source": [
        "gdp = [100, 204, 104]\n",
        "gdp[0] = gdp[0] * 1000000\n",
        "gdp[1] = gdp[1] * 1000000\n",
        "gdp[2] = gdp[2] * 1000000\n",
        "gdp"
      ],
      "metadata": {
        "id": "d77VqJLpK5HK",
        "colab": {
          "base_uri": "https://localhost:8080/"
        },
        "outputId": "8c46179e-412d-4327-fdbf-993494ab7c1f"
      },
      "id": "d77VqJLpK5HK",
      "execution_count": 94,
      "outputs": [
        {
          "output_type": "execute_result",
          "data": {
            "text/plain": [
              "[100000000, 204000000, 104000000]"
            ]
          },
          "metadata": {},
          "execution_count": 94
        }
      ]
    },
    {
      "cell_type": "code",
      "execution_count": 95,
      "id": "skilled-subscriber",
      "metadata": {
        "id": "skilled-subscriber",
        "colab": {
          "base_uri": "https://localhost:8080/"
        },
        "outputId": "f0bdd8de-4eb4-4ac3-d0d4-b41699f3d731"
      },
      "outputs": [
        {
          "output_type": "stream",
          "name": "stdout",
          "text": [
            "100\n",
            "200\n",
            "300\n"
          ]
        }
      ],
      "source": [
        "li = [10,20,30]\n",
        "for i in li:\n",
        "    a = i *10\n",
        "    print(a)"
      ]
    },
    {
      "cell_type": "code",
      "source": [
        "for i in range(0,len(li)):\n",
        "  print(i)"
      ],
      "metadata": {
        "colab": {
          "base_uri": "https://localhost:8080/"
        },
        "id": "wpl98pPAUlQJ",
        "outputId": "97f5dd65-bf6a-4f6e-9353-550af3ef078c"
      },
      "id": "wpl98pPAUlQJ",
      "execution_count": 96,
      "outputs": [
        {
          "output_type": "stream",
          "name": "stdout",
          "text": [
            "0\n",
            "1\n",
            "2\n"
          ]
        }
      ]
    },
    {
      "cell_type": "code",
      "source": [],
      "metadata": {
        "id": "nx4Hw-QYUlSZ"
      },
      "id": "nx4Hw-QYUlSZ",
      "execution_count": null,
      "outputs": []
    },
    {
      "cell_type": "code",
      "source": [],
      "metadata": {
        "id": "9Coo_-7UUlVi"
      },
      "id": "9Coo_-7UUlVi",
      "execution_count": null,
      "outputs": []
    },
    {
      "cell_type": "code",
      "source": [
        "list(range(100, 110))"
      ],
      "metadata": {
        "id": "4WZaUUTUMgch",
        "outputId": "28ae7015-b4c4-4c61-b03f-1c82e20f0847",
        "colab": {
          "base_uri": "https://localhost:8080/"
        }
      },
      "id": "4WZaUUTUMgch",
      "execution_count": 97,
      "outputs": [
        {
          "output_type": "execute_result",
          "data": {
            "text/plain": [
              "[100, 101, 102, 103, 104, 105, 106, 107, 108, 109]"
            ]
          },
          "metadata": {},
          "execution_count": 97
        }
      ]
    },
    {
      "cell_type": "code",
      "source": [
        "li = [10,20,30]\n",
        "\n",
        "for i in range(0, len(li)):\n",
        "    print(i, li[i])\n"
      ],
      "metadata": {
        "id": "WP8VaRuD-6Fa",
        "outputId": "f658ba8c-bb9f-4eb3-ee0a-dcc205d092e3",
        "colab": {
          "base_uri": "https://localhost:8080/"
        }
      },
      "id": "WP8VaRuD-6Fa",
      "execution_count": 98,
      "outputs": [
        {
          "output_type": "stream",
          "name": "stdout",
          "text": [
            "0 10\n",
            "1 20\n",
            "2 30\n"
          ]
        }
      ]
    },
    {
      "cell_type": "code",
      "source": [
        "for i, val in enumerate([\"hey\", \"hi\", \"ho\"]):\n",
        "    print(i, val)"
      ],
      "metadata": {
        "id": "G4yY5YbC_JJN",
        "outputId": "5d2b56c2-25b8-4348-a42d-debc037b10fc",
        "colab": {
          "base_uri": "https://localhost:8080/"
        }
      },
      "id": "G4yY5YbC_JJN",
      "execution_count": 99,
      "outputs": [
        {
          "output_type": "stream",
          "name": "stdout",
          "text": [
            "0 hey\n",
            "1 hi\n",
            "2 ho\n"
          ]
        }
      ]
    },
    {
      "cell_type": "code",
      "source": [],
      "metadata": {
        "id": "mokgTEpd-6H0"
      },
      "id": "mokgTEpd-6H0",
      "execution_count": null,
      "outputs": []
    },
    {
      "cell_type": "code",
      "execution_count": 100,
      "id": "arctic-nursery",
      "metadata": {
        "id": "arctic-nursery",
        "outputId": "77a1f91b-1760-47ed-fd02-73cbda8ae236",
        "colab": {
          "base_uri": "https://localhost:8080/"
        }
      },
      "outputs": [
        {
          "output_type": "stream",
          "name": "stdout",
          "text": [
            "1\n",
            "4\n",
            "9\n"
          ]
        }
      ],
      "source": [
        "for i in [1,2,3]:\n",
        "    print(i ** 2)"
      ]
    },
    {
      "cell_type": "code",
      "execution_count": 101,
      "id": "private-finish",
      "metadata": {
        "id": "private-finish",
        "outputId": "6cccf8f3-9801-4c71-88a1-433e44fb6500",
        "colab": {
          "base_uri": "https://localhost:8080/"
        }
      },
      "outputs": [
        {
          "output_type": "stream",
          "name": "stdout",
          "text": [
            "1\n",
            "4\n",
            "9\n"
          ]
        }
      ],
      "source": [
        "for i in (1,2,3):\n",
        "    print(i ** 2)"
      ]
    },
    {
      "cell_type": "code",
      "execution_count": null,
      "id": "systematic-flight",
      "metadata": {
        "id": "systematic-flight"
      },
      "outputs": [],
      "source": [
        "for i in range(1, 4):\n",
        "    print(i ** 2)"
      ]
    },
    {
      "cell_type": "code",
      "source": [
        "1%7"
      ],
      "metadata": {
        "id": "hvcGtFBQB7Gg"
      },
      "id": "hvcGtFBQB7Gg",
      "execution_count": null,
      "outputs": []
    },
    {
      "cell_type": "code",
      "execution_count": 102,
      "id": "brave-panic",
      "metadata": {
        "id": "brave-panic",
        "outputId": "90045fef-e0b4-48b0-da13-898f302a0ab3",
        "colab": {
          "base_uri": "https://localhost:8080/"
        }
      },
      "outputs": [
        {
          "output_type": "stream",
          "name": "stdout",
          "text": [
            "[0, 7, 14, 21, 28, 35, 42, 49, 56, 63, 70, 77, 84, 91, 98]\n"
          ]
        }
      ],
      "source": [
        "#-- Finding numbers that are divisible by 7 between 0 and 99\n",
        "divisible_by_7 = []\n",
        "for i in range(0, 100):\n",
        "    if i % 7 == 0:\n",
        "        divisible_by_7.append(i)\n",
        "print(divisible_by_7)"
      ]
    },
    {
      "cell_type": "code",
      "execution_count": 103,
      "id": "voluntary-collins",
      "metadata": {
        "id": "voluntary-collins",
        "outputId": "1a8e543e-d61e-4453-caf3-b5a8b9dee1ea",
        "colab": {
          "base_uri": "https://localhost:8080/"
        }
      },
      "outputs": [
        {
          "output_type": "stream",
          "name": "stdout",
          "text": [
            "The 0 item is Fry\n",
            "The 1 item is Leila\n",
            "The 2 item is Hermes\n",
            "The 3 item is Bender\n"
          ]
        }
      ],
      "source": [
        "#-- Using enumerate to have access to the index, and the value\n",
        "for i, name in enumerate([\"Fry\", \"Leila\", \"Hermes\", \"Bender\"]):\n",
        "    print(\"The {} item is {}\".format(i, name))\n"
      ]
    },
    {
      "cell_type": "markdown",
      "id": "sixth-approach",
      "metadata": {
        "id": "sixth-approach"
      },
      "source": [
        "### While Loop\n",
        "These can be \"dangerous\" because the programmer does not explicitly know when the loop will end. It is very easy write a program that has an endless loop, which is generally not a good thing."
      ]
    },
    {
      "cell_type": "code",
      "execution_count": 104,
      "id": "ordered-slovakia",
      "metadata": {
        "id": "ordered-slovakia",
        "outputId": "846242e5-36a1-46ac-c94a-88468d660bf4",
        "colab": {
          "base_uri": "https://localhost:8080/"
        }
      },
      "outputs": [
        {
          "output_type": "stream",
          "name": "stdout",
          "text": [
            "0\n",
            "1\n",
            "2\n",
            "3\n",
            "4\n"
          ]
        }
      ],
      "source": [
        "x = 0\n",
        "while x < 5:\n",
        "    print(x)\n",
        "    x += 1"
      ]
    },
    {
      "cell_type": "code",
      "source": [
        "a = \"10\"\n",
        "a + g"
      ],
      "metadata": {
        "id": "Eiuvg58POqzh",
        "outputId": "6039235f-db64-4756-e675-a9624ca5c45e",
        "colab": {
          "base_uri": "https://localhost:8080/",
          "height": 158
        }
      },
      "id": "Eiuvg58POqzh",
      "execution_count": 105,
      "outputs": [
        {
          "output_type": "error",
          "ename": "NameError",
          "evalue": "name 'g' is not defined",
          "traceback": [
            "\u001b[0;31m---------------------------------------------------------------------------\u001b[0m",
            "\u001b[0;31mNameError\u001b[0m                                 Traceback (most recent call last)",
            "\u001b[0;32m/tmp/ipython-input-1269582154.py\u001b[0m in \u001b[0;36m<cell line: 0>\u001b[0;34m()\u001b[0m\n\u001b[1;32m      1\u001b[0m \u001b[0ma\u001b[0m \u001b[0;34m=\u001b[0m \u001b[0;34m\"10\"\u001b[0m\u001b[0;34m\u001b[0m\u001b[0;34m\u001b[0m\u001b[0m\n\u001b[0;32m----> 2\u001b[0;31m \u001b[0ma\u001b[0m \u001b[0;34m+\u001b[0m \u001b[0mg\u001b[0m\u001b[0;34m\u001b[0m\u001b[0;34m\u001b[0m\u001b[0m\n\u001b[0m",
            "\u001b[0;31mNameError\u001b[0m: name 'g' is not defined"
          ]
        }
      ]
    },
    {
      "cell_type": "markdown",
      "source": [
        "## 1.5 Types of Errors and De-Bugging"
      ],
      "metadata": {
        "id": "CZYRTjHHbeeP"
      },
      "id": "CZYRTjHHbeeP"
    },
    {
      "cell_type": "markdown",
      "source": [
        "### Syntax Errors\n",
        "A **syntax error** happens when Python can't understand what you are saying. A run-time error happens when Python understands what you are saying, but runs into trouble when following your instructions.\n",
        "\n",
        "In English, a **syntax error** would be like the sentence\n",
        "\n",
        "Please cat dog monkey.\n",
        "\n",
        "The grammar of this sentence does not make sense. From the perspective of English grammar, it is missing a verb (action). You cannot understand what you are being asked to do. Syntax means the same thing as grammar.\n",
        "\n",
        "### Run-Time Errors\n",
        "In English, a **run-time error** would be like the sentence\n",
        "\n",
        "Please eat the piano.\n",
        "\n",
        "The sentence makes sense from a grammatical perspective — there is a verb and noun in the right place — so you know what you are being asked to do. But, you will encounter problems once you start trying to eat the piano (except maybe if you are a termite). This is called a **run-time error** because it occurs after the program starts running.\n",
        "\n",
        "### Logical Errors (THE MOST DANGEROUS)\n",
        "We also will talk about **logic errors** at the end, which means that your program runs without crashing, but still produces the wrong result. An example would be\n",
        "\n",
        "Please close the back door so that the bugs don't come in.\n",
        "\n",
        "This would be a **logic error** if the front door is also open: even though the command makes sense and you can close the back door, this doesn't actually accomplish the goal of keeping the bugs out since they'll still come in the front door.\n",
        "\n",
        "Source and Additional Explanation\n",
        "https://cscircles.cemc.uwaterloo.ca/1e-errors/#:~:text=A%20syntax%20error%20happens%20when,trouble%20when%20following%20your%20instructions."
      ],
      "metadata": {
        "id": "sEe1mqzxbiZH"
      },
      "id": "sEe1mqzxbiZH"
    },
    {
      "cell_type": "code",
      "source": [
        "#-- syntax error\n",
        "x ="
      ],
      "metadata": {
        "id": "D1H_N9teoq4a",
        "outputId": "7bfb9c46-731b-4e13-e9a4-80dced4baa9d",
        "colab": {
          "base_uri": "https://localhost:8080/",
          "height": 106
        }
      },
      "id": "D1H_N9teoq4a",
      "execution_count": 106,
      "outputs": [
        {
          "output_type": "error",
          "ename": "SyntaxError",
          "evalue": "invalid syntax (ipython-input-1503085804.py, line 2)",
          "traceback": [
            "\u001b[0;36m  File \u001b[0;32m\"/tmp/ipython-input-1503085804.py\"\u001b[0;36m, line \u001b[0;32m2\u001b[0m\n\u001b[0;31m    x =\u001b[0m\n\u001b[0m       ^\u001b[0m\n\u001b[0;31mSyntaxError\u001b[0m\u001b[0;31m:\u001b[0m invalid syntax\n"
          ]
        }
      ]
    },
    {
      "cell_type": "code",
      "source": [
        "#-- Run-time error\n",
        "x = [\"1\", \"2\", \"three\"]\n",
        "for val in x:\n",
        "  print(val)\n",
        "  print(int(val) + 10)"
      ],
      "metadata": {
        "id": "oHHo3yxconti",
        "outputId": "2a34b8d4-7c94-4219-8410-ff13ede55589",
        "colab": {
          "base_uri": "https://localhost:8080/",
          "height": 263
        }
      },
      "id": "oHHo3yxconti",
      "execution_count": 107,
      "outputs": [
        {
          "output_type": "stream",
          "name": "stdout",
          "text": [
            "1\n",
            "11\n",
            "2\n",
            "12\n",
            "three\n"
          ]
        },
        {
          "output_type": "error",
          "ename": "ValueError",
          "evalue": "invalid literal for int() with base 10: 'three'",
          "traceback": [
            "\u001b[0;31m---------------------------------------------------------------------------\u001b[0m",
            "\u001b[0;31mValueError\u001b[0m                                Traceback (most recent call last)",
            "\u001b[0;32m/tmp/ipython-input-4287647490.py\u001b[0m in \u001b[0;36m<cell line: 0>\u001b[0;34m()\u001b[0m\n\u001b[1;32m      3\u001b[0m \u001b[0;32mfor\u001b[0m \u001b[0mval\u001b[0m \u001b[0;32min\u001b[0m \u001b[0mx\u001b[0m\u001b[0;34m:\u001b[0m\u001b[0;34m\u001b[0m\u001b[0;34m\u001b[0m\u001b[0m\n\u001b[1;32m      4\u001b[0m   \u001b[0mprint\u001b[0m\u001b[0;34m(\u001b[0m\u001b[0mval\u001b[0m\u001b[0;34m)\u001b[0m\u001b[0;34m\u001b[0m\u001b[0;34m\u001b[0m\u001b[0m\n\u001b[0;32m----> 5\u001b[0;31m   \u001b[0mprint\u001b[0m\u001b[0;34m(\u001b[0m\u001b[0mint\u001b[0m\u001b[0;34m(\u001b[0m\u001b[0mval\u001b[0m\u001b[0;34m)\u001b[0m \u001b[0;34m+\u001b[0m \u001b[0;36m10\u001b[0m\u001b[0;34m)\u001b[0m\u001b[0;34m\u001b[0m\u001b[0;34m\u001b[0m\u001b[0m\n\u001b[0m",
            "\u001b[0;31mValueError\u001b[0m: invalid literal for int() with base 10: 'three'"
          ]
        }
      ]
    },
    {
      "cell_type": "code",
      "source": [
        "capitals = {\n",
        "    \"North Carolina\": \"Raleigh\",\n",
        "    \"Virginia\": \"Alexandria\"\n",
        "}\n",
        "print(capitals[\"Virginia\"])"
      ],
      "metadata": {
        "id": "hah88p7WozZ_",
        "outputId": "8ea7a786-ae00-4b54-d26a-57d602ea4d17",
        "colab": {
          "base_uri": "https://localhost:8080/"
        }
      },
      "id": "hah88p7WozZ_",
      "execution_count": 108,
      "outputs": [
        {
          "output_type": "stream",
          "name": "stdout",
          "text": [
            "Alexandria\n"
          ]
        }
      ]
    },
    {
      "cell_type": "code",
      "source": [
        "grade = -1\n",
        "assert grade >= 0"
      ],
      "metadata": {
        "id": "L8tinspRvSop",
        "outputId": "1ae0946c-53b7-4045-846a-397ba74095b1",
        "colab": {
          "base_uri": "https://localhost:8080/",
          "height": 158
        }
      },
      "id": "L8tinspRvSop",
      "execution_count": 109,
      "outputs": [
        {
          "output_type": "error",
          "ename": "AssertionError",
          "evalue": "",
          "traceback": [
            "\u001b[0;31m---------------------------------------------------------------------------\u001b[0m",
            "\u001b[0;31mAssertionError\u001b[0m                            Traceback (most recent call last)",
            "\u001b[0;32m/tmp/ipython-input-3936441310.py\u001b[0m in \u001b[0;36m<cell line: 0>\u001b[0;34m()\u001b[0m\n\u001b[1;32m      1\u001b[0m \u001b[0mgrade\u001b[0m \u001b[0;34m=\u001b[0m \u001b[0;34m-\u001b[0m\u001b[0;36m1\u001b[0m\u001b[0;34m\u001b[0m\u001b[0;34m\u001b[0m\u001b[0m\n\u001b[0;32m----> 2\u001b[0;31m \u001b[0;32massert\u001b[0m \u001b[0mgrade\u001b[0m \u001b[0;34m>=\u001b[0m \u001b[0;36m0\u001b[0m\u001b[0;34m\u001b[0m\u001b[0;34m\u001b[0m\u001b[0m\n\u001b[0m",
            "\u001b[0;31mAssertionError\u001b[0m: "
          ]
        }
      ]
    },
    {
      "cell_type": "markdown",
      "source": [
        "### Debugging Strategies\n",
        "- Print output\n",
        "- Audit your work\n",
        "- Use Try-Except statements (try-catch in R)\n",
        "- Use de-buggers\n",
        "- Read the error message carefully, use StackExchange or similar sites\n",
        "- Use assert statements to ensure a value type is what is expected\n"
      ],
      "metadata": {
        "id": "k1l2SC-acGA4"
      },
      "id": "k1l2SC-acGA4"
    },
    {
      "cell_type": "markdown",
      "source": [
        "## 1.6 A Brief Note on String Operations"
      ],
      "metadata": {
        "id": "d8btsLuANNpD"
      },
      "id": "d8btsLuANNpD"
    },
    {
      "cell_type": "markdown",
      "source": [
        "Strings operate very similarly to lists... A String after all is effectively a list of characters. You can index and slice strings with identical syntax to lists.\n",
        "\n",
        "| Method |\tDescription |\n",
        "|--------|---------------------|\n",
        "| capitalize() |\tConverts the first character to upper case |\n",
        "| casefold() |\t\tConverts string into lower case |\n",
        "| center() |\t\tReturns a centered string |\n",
        "| count() |\t\tReturns the number of times a specified value occurs in a string |\n",
        "| encode() |\t\tReturns an encoded version of the string |\n",
        "| endswith() |\t\tReturns true if the string ends with the specified value |\n",
        "| expandtabs() |\t\tSets the tab size of the string |\n",
        "| find() |\t\tSearches the string for a specified value and returns the position of where it was found |\n",
        "| format() |\t\tFormats specified values in a string |\n",
        "| format_map() |\t\tFormats specified values in a string |\n",
        "| index() |\t\tSearches the string for a specified value and returns the position of where it was found |\n",
        "| isalnum() |\t\tReturns True if all characters in the string are alphanumeric |\n",
        "| isalpha() |\t\tReturns True if all characters in the string are in the alphabet |\n",
        "| isascii() |\t\tReturns True if all characters in the string are ascii characters |\n",
        "| isdecimal()\t |\tReturns True if all characters in the string are decimals |\n",
        "| isdigit() |\t\tReturns True if all characters in the string are digits |\n",
        "| isidentifier() |\t\tReturns True if the string is an identifier |\n",
        "| islower() |\t\tReturns True if all characters in the string are lower case |\n",
        "| isnumeric() |\t\tReturns True if all characters in the string are numeric |\n",
        "| isprintable() |\t\tReturns True if all characters in the string are printable |\n",
        "| isspace() |\t\tReturns True if all characters in the string are whitespaces |\n",
        "| istitle() |\t\tReturns True if the string follows the rules of a title |\n",
        "| isupper() |\t\tReturns True if all characters in the string are upper case |\n",
        "| join() |\t\tConverts the elements of an iterable into a string |\n",
        "| ljust() |\t\tReturns a left justified version of the string |\n",
        "| lower() |\t\tConverts a string into lower case |\n",
        "| lstrip() |\t\tReturns a left trim version of the string |\n",
        "| maketrans() |\t\tReturns a translation table to be used in translations |\n",
        "| partition() |\t\tReturns a tuple where the string is parted into three parts |\n",
        "| replace() |\t\tReturns a string where a specified value is replaced with a specified value |\n",
        "| rfind() |\t\tSearches the string for a specified value and returns the last position of where it was found |\n",
        "| rindex() |\t\tSearches the string for a specified value and returns the last position of where it was found |\n",
        "| rjust()\t |\tReturns a right justified version of the string |\n",
        "| rpartition() |\t\tReturns a tuple where the string is parted into three parts |\n",
        "| rsplit() |\t\tSplits the string at the specified separator, and returns a list |\n",
        "| rstrip() |\t\tReturns a right trim version of the string |\n",
        "| split()\t |\tSplits the string at the specified separator, and returns a list |\n",
        "| splitlines() |\t\tSplits the string at line breaks and returns a list |\n",
        "| startswith() |\t\tReturns true if the string starts with the specified value |\n",
        "| strip() |\t\tReturns a trimmed version of the string |\n",
        "| swapcase() |\t\tSwaps cases, lower case becomes upper case and vice versa |\n",
        "| title() |\t\tConverts the first character of each word to upper case |\n",
        "| translate() |\t\tReturns a translated string |\n",
        "| upper() |\t\tConverts a string into upper case |\n",
        "| zfill() |\t\tFills the string with a specified number of 0 values at the f"
      ],
      "metadata": {
        "id": "iMMhVkD8NWgO"
      },
      "id": "iMMhVkD8NWgO"
    },
    {
      "cell_type": "code",
      "source": [
        "#-- Indexing\n",
        "s = \"This is a word\"\n",
        "print(s[-1])"
      ],
      "metadata": {
        "id": "TOMWI-tgNTxK",
        "outputId": "f0a07c34-c72b-4b76-c7dd-7dd666d8a910",
        "colab": {
          "base_uri": "https://localhost:8080/"
        }
      },
      "id": "TOMWI-tgNTxK",
      "execution_count": 110,
      "outputs": [
        {
          "output_type": "stream",
          "name": "stdout",
          "text": [
            "d\n"
          ]
        }
      ]
    },
    {
      "cell_type": "code",
      "source": [
        "#-- Slicing\n",
        "s = \"This is a word\"\n",
        "print(s[4:-2])"
      ],
      "metadata": {
        "id": "wHFQGN5AOCh7",
        "outputId": "45d0588f-f85c-47d2-f21a-e0786c37dc0f",
        "colab": {
          "base_uri": "https://localhost:8080/"
        }
      },
      "id": "wHFQGN5AOCh7",
      "execution_count": 111,
      "outputs": [
        {
          "output_type": "stream",
          "name": "stdout",
          "text": [
            " is a wo\n"
          ]
        }
      ]
    },
    {
      "cell_type": "code",
      "source": [
        "#-- Replace method\n",
        "s = \"This is a word.\"\n",
        "print(s.replace(\".\", \"\"))"
      ],
      "metadata": {
        "id": "uK0384agOGOt",
        "outputId": "1f0e6320-669f-43f5-9aa9-b0d6b9831939",
        "colab": {
          "base_uri": "https://localhost:8080/"
        }
      },
      "id": "uK0384agOGOt",
      "execution_count": 112,
      "outputs": [
        {
          "output_type": "stream",
          "name": "stdout",
          "text": [
            "This is a word\n"
          ]
        }
      ]
    },
    {
      "cell_type": "code",
      "source": [
        "#-- Split String into list of words\n",
        "s = \"This is a word\"\n",
        "print(s.split(\" \"))"
      ],
      "metadata": {
        "id": "_H1US-WyPdSu",
        "outputId": "00f3758a-099f-494a-9016-c7dd7dca2737",
        "colab": {
          "base_uri": "https://localhost:8080/"
        }
      },
      "id": "_H1US-WyPdSu",
      "execution_count": 113,
      "outputs": [
        {
          "output_type": "stream",
          "name": "stdout",
          "text": [
            "['This', 'is', 'a', 'word']\n"
          ]
        }
      ]
    },
    {
      "cell_type": "code",
      "source": [
        "#-- Strip white space\n",
        "s = \"    This is a word \"\n",
        "print(s.strip())"
      ],
      "metadata": {
        "id": "vLmDfY2VPld6",
        "outputId": "ae1d9274-2b12-4883-8d49-b08aeb5402ae",
        "colab": {
          "base_uri": "https://localhost:8080/"
        }
      },
      "id": "vLmDfY2VPld6",
      "execution_count": 114,
      "outputs": [
        {
          "output_type": "stream",
          "name": "stdout",
          "text": [
            "This is a word\n"
          ]
        }
      ]
    },
    {
      "cell_type": "code",
      "source": [],
      "metadata": {
        "id": "495Ab3vFPwC2"
      },
      "id": "495Ab3vFPwC2",
      "execution_count": null,
      "outputs": []
    }
  ],
  "metadata": {
    "kernelspec": {
      "display_name": "Python 3",
      "language": "python",
      "name": "python3"
    },
    "language_info": {
      "codemirror_mode": {
        "name": "ipython",
        "version": 3
      },
      "file_extension": ".py",
      "mimetype": "text/x-python",
      "name": "python",
      "nbconvert_exporter": "python",
      "pygments_lexer": "ipython3",
      "version": "3.9.15"
    },
    "colab": {
      "provenance": [],
      "toc_visible": true,
      "include_colab_link": true
    }
  },
  "nbformat": 4,
  "nbformat_minor": 5
}