{
  "nbformat": 4,
  "nbformat_minor": 0,
  "metadata": {
    "colab": {
      "provenance": [],
      "include_colab_link": true
    },
    "kernelspec": {
      "name": "python3",
      "display_name": "Python 3"
    },
    "language_info": {
      "name": "python"
    }
  },
  "cells": [
    {
      "cell_type": "markdown",
      "metadata": {
        "id": "view-in-github",
        "colab_type": "text"
      },
      "source": [
        "<a href=\"https://colab.research.google.com/github/BroodrickVM/BroodrickVM/blob/main/Another_copy_of_ASSN_01.ipynb\" target=\"_parent\"><img src=\"https://colab.research.google.com/assets/colab-badge.svg\" alt=\"Open In Colab\"/></a>"
      ]
    },
    {
      "cell_type": "markdown",
      "source": [
        "#ASSN_01"
      ],
      "metadata": {
        "id": "LZek1dcwR-8j"
      }
    },
    {
      "cell_type": "markdown",
      "source": [
        "Please complete the following questions and tasks. When writing code, please provide answers in Python. Please provide all answers in this ipynb notebook. Readability of the code and questions will count for 10% of the assignment, so please comment and use Markdown to make the ipynb easy to read!\n",
        "\n",
        "Once completed, please turn this ipynb into the corrresponding assignment on `Blackboard`. `I WILL NOT ACCEPT FILES THAT ARE NOT IPYNB!!`\n",
        "\n",
        "In general the programs you write should work for any data passed in, not just the \"input\" given. For example, if I ask you to print all values in a list, if they are equal to 3 for the list - l=[1,2,3,2,3] the answer could be...\n",
        "```\n",
        "[print(i) for i in l if i==3]\n",
        "```\n",
        "But should **NOT** be...\n",
        "```\n",
        "print(l[2])\n",
        "print(l[[-1])\n",
        "```"
      ],
      "metadata": {
        "id": "RDMdmKQcSD1C"
      }
    },
    {
      "cell_type": "markdown",
      "source": [
        "##Question #1\n",
        "Please research, explain and demonstrate common String formatting methods for Python. This will be crucial in creating clean and easy to read notebooks, but do not have time to teach in class. Python programming requires a lot of \"Google skill\", and this will be good practice for that. (You do not need to actually do anything here other than research!)\n",
        "  \n",
        "Python\n",
        "- String formatting methods (hint \"f strings\" and \"string format\")\n",
        "- How to format numbers to show dollars, rounding, percent etc  "
      ],
      "metadata": {
        "id": "yLVsuJHCGCog"
      }
    },
    {
      "cell_type": "markdown",
      "source": [
        "```\n",
        "Add text below\n",
        "```"
      ],
      "metadata": {
        "id": "_a0-irGKC50L"
      }
    },
    {
      "cell_type": "code",
      "source": [
        "#f-strings (Formatted Strings Literals)\n",
        "##Introduced in Python 3.6, f strings are the most modern and readable way to format strings\n",
        "name=\"Velaphi\"\n",
        "age=26\n",
        "print(f\"My name is {name} and I am {age} years old.\")\n",
        "\n",
        "#Formatting Numbers\n",
        "price=2468.1234\n",
        "print(f\"Price:${price:.2f}\") #Rounds to 2 decimal places\n",
        "print(f\"Price with commas: ${price:,.2f}\") #Adds thousand seperators\n",
        "\n",
        "#Percentages\n",
        "accuracy = 0.91827\n",
        "print(f\"Accuracy: {accuracy:.2%}\")"
      ],
      "metadata": {
        "id": "btiEpiyYVDo2",
        "outputId": "4666dd0a-9d64-4f47-cd64-b8eaa6450a2a",
        "colab": {
          "base_uri": "https://localhost:8080/"
        }
      },
      "execution_count": null,
      "outputs": [
        {
          "output_type": "stream",
          "name": "stdout",
          "text": [
            "My name is Velaphi and I am 26 years old.\n",
            "Price:$2468.12\n",
            "Price with commas: $2,468.12\n",
            "Accuracy: 91.83%\n"
          ]
        }
      ]
    },
    {
      "cell_type": "markdown",
      "source": [
        "## Question #2\n",
        "Given the following input list, write code to test if the first and last values are equivalent.\n",
        "- Python Input Data:\n",
        "```\n",
        "vals = [\"1\", \"1.3\", \"1B\", \"4\", \"tent\"]\n",
        "```\n"
      ],
      "metadata": {
        "id": "48fK1XU8Sb_Y"
      }
    },
    {
      "cell_type": "code",
      "source": [
        "vals = [\"1\", \"1.3\", \"1B\", \"4\", \"tent\"]\n",
        "#Check if the first and last values are equivalent\n",
        "if vals[0]==vals[-1]:\n",
        "  print(\"The first and last values are the same.\")\n",
        "else:\n",
        "    print(\"The first and last values are different\")"
      ],
      "metadata": {
        "id": "NL-D5Df-J-g1",
        "colab": {
          "base_uri": "https://localhost:8080/"
        },
        "outputId": "f8b0ff58-bfe8-4270-cad6-79c136e3cb74"
      },
      "execution_count": null,
      "outputs": [
        {
          "output_type": "stream",
          "name": "stdout",
          "text": [
            "The first and last values are different\n"
          ]
        }
      ]
    },
    {
      "cell_type": "markdown",
      "source": [
        "##Question #3\n",
        "Given a list/vector of values, write code to count the instances of each unique value and store them in a data structure (hint… a dictionary will be helpful).\n",
        "For example, if a list has 3 instances of 10.... the data structure should show {10: 3}\n",
        " - Python Input Data: [1,1,10,4,5,4,8,1,1,9,10,3, 3, 4, 1, 10, 11]\n"
      ],
      "metadata": {
        "id": "Klw38yhSSdXZ"
      }
    },
    {
      "cell_type": "code",
      "source": [
        "#Inputting Data\n",
        "data = [1,1,10,4,5,4,8,1,1,9,10,3,4,1,10,11]\n",
        "\n",
        "#Create an empty dictionary to store counts\n",
        "counts = {}\n",
        "\n",
        "#Loop through each value in the list\n",
        "for value in data:\n",
        "  #Increment count if value already exists, else initialize to 1\n",
        "  counts[value]=counts.get(value, 0) + 1\n",
        "\n",
        "  #Display results\n",
        "  print(\"Occurences of each unique value:\")\n",
        "  print(counts)"
      ],
      "metadata": {
        "id": "IdcKnbF7Sdf_",
        "colab": {
          "base_uri": "https://localhost:8080/"
        },
        "outputId": "99d5316e-f002-4db2-b27d-d9ef2c887e47"
      },
      "execution_count": null,
      "outputs": [
        {
          "output_type": "stream",
          "name": "stdout",
          "text": [
            "Occurences of each unique value:\n",
            "{1: 1}\n",
            "Occurences of each unique value:\n",
            "{1: 2}\n",
            "Occurences of each unique value:\n",
            "{1: 2, 10: 1}\n",
            "Occurences of each unique value:\n",
            "{1: 2, 10: 1, 4: 1}\n",
            "Occurences of each unique value:\n",
            "{1: 2, 10: 1, 4: 1, 5: 1}\n",
            "Occurences of each unique value:\n",
            "{1: 2, 10: 1, 4: 2, 5: 1}\n",
            "Occurences of each unique value:\n",
            "{1: 2, 10: 1, 4: 2, 5: 1, 8: 1}\n",
            "Occurences of each unique value:\n",
            "{1: 3, 10: 1, 4: 2, 5: 1, 8: 1}\n",
            "Occurences of each unique value:\n",
            "{1: 4, 10: 1, 4: 2, 5: 1, 8: 1}\n",
            "Occurences of each unique value:\n",
            "{1: 4, 10: 1, 4: 2, 5: 1, 8: 1, 9: 1}\n",
            "Occurences of each unique value:\n",
            "{1: 4, 10: 2, 4: 2, 5: 1, 8: 1, 9: 1}\n",
            "Occurences of each unique value:\n",
            "{1: 4, 10: 2, 4: 2, 5: 1, 8: 1, 9: 1, 3: 1}\n",
            "Occurences of each unique value:\n",
            "{1: 4, 10: 2, 4: 3, 5: 1, 8: 1, 9: 1, 3: 1}\n",
            "Occurences of each unique value:\n",
            "{1: 5, 10: 2, 4: 3, 5: 1, 8: 1, 9: 1, 3: 1}\n",
            "Occurences of each unique value:\n",
            "{1: 5, 10: 3, 4: 3, 5: 1, 8: 1, 9: 1, 3: 1}\n",
            "Occurences of each unique value:\n",
            "{1: 5, 10: 3, 4: 3, 5: 1, 8: 1, 9: 1, 3: 1, 11: 1}\n"
          ]
        }
      ]
    },
    {
      "cell_type": "markdown",
      "source": [
        "##Question #4\n",
        "Write a Python program to find those numbers which are divisible by both 7 and  5, between 1 and 10,000 (inclusive)."
      ],
      "metadata": {
        "id": "wIO_8yVrSdny"
      }
    },
    {
      "cell_type": "code",
      "source": [
        "#Find the numbers divisible by both 7 and 5 between 1 and 10,000 (inclusive)\n",
        "\n",
        "#Create an empty list to store the results\n",
        "divisible_numbers = []\n",
        "\n",
        "#Loop through numbers from 1 to 10,000\n",
        "for num in range(1, 10001):\n",
        "  #check if divisible by both 7 and 5\n",
        "  if num % 7 == 0 and num % 5 == 0:\n",
        "    divisible_numbers.append(num)\n",
        "\n",
        "#Display the results\n",
        "print(\"Numbers divisible by both 7 and 5 between 1 and 10,000:\")\n",
        "print(divisible_numbers)"
      ],
      "metadata": {
        "id": "nAyAlbdZSdvF",
        "colab": {
          "base_uri": "https://localhost:8080/"
        },
        "outputId": "03e16865-cb70-4039-c105-7f4b1902dfdc"
      },
      "execution_count": null,
      "outputs": [
        {
          "output_type": "stream",
          "name": "stdout",
          "text": [
            "Numbers divisible by both 7 and 5 between 1 and 10,000:\n",
            "[35, 70, 105, 140, 175, 210, 245, 280, 315, 350, 385, 420, 455, 490, 525, 560, 595, 630, 665, 700, 735, 770, 805, 840, 875, 910, 945, 980, 1015, 1050, 1085, 1120, 1155, 1190, 1225, 1260, 1295, 1330, 1365, 1400, 1435, 1470, 1505, 1540, 1575, 1610, 1645, 1680, 1715, 1750, 1785, 1820, 1855, 1890, 1925, 1960, 1995, 2030, 2065, 2100, 2135, 2170, 2205, 2240, 2275, 2310, 2345, 2380, 2415, 2450, 2485, 2520, 2555, 2590, 2625, 2660, 2695, 2730, 2765, 2800, 2835, 2870, 2905, 2940, 2975, 3010, 3045, 3080, 3115, 3150, 3185, 3220, 3255, 3290, 3325, 3360, 3395, 3430, 3465, 3500, 3535, 3570, 3605, 3640, 3675, 3710, 3745, 3780, 3815, 3850, 3885, 3920, 3955, 3990, 4025, 4060, 4095, 4130, 4165, 4200, 4235, 4270, 4305, 4340, 4375, 4410, 4445, 4480, 4515, 4550, 4585, 4620, 4655, 4690, 4725, 4760, 4795, 4830, 4865, 4900, 4935, 4970, 5005, 5040, 5075, 5110, 5145, 5180, 5215, 5250, 5285, 5320, 5355, 5390, 5425, 5460, 5495, 5530, 5565, 5600, 5635, 5670, 5705, 5740, 5775, 5810, 5845, 5880, 5915, 5950, 5985, 6020, 6055, 6090, 6125, 6160, 6195, 6230, 6265, 6300, 6335, 6370, 6405, 6440, 6475, 6510, 6545, 6580, 6615, 6650, 6685, 6720, 6755, 6790, 6825, 6860, 6895, 6930, 6965, 7000, 7035, 7070, 7105, 7140, 7175, 7210, 7245, 7280, 7315, 7350, 7385, 7420, 7455, 7490, 7525, 7560, 7595, 7630, 7665, 7700, 7735, 7770, 7805, 7840, 7875, 7910, 7945, 7980, 8015, 8050, 8085, 8120, 8155, 8190, 8225, 8260, 8295, 8330, 8365, 8400, 8435, 8470, 8505, 8540, 8575, 8610, 8645, 8680, 8715, 8750, 8785, 8820, 8855, 8890, 8925, 8960, 8995, 9030, 9065, 9100, 9135, 9170, 9205, 9240, 9275, 9310, 9345, 9380, 9415, 9450, 9485, 9520, 9555, 9590, 9625, 9660, 9695, 9730, 9765, 9800, 9835, 9870, 9905, 9940, 9975]\n"
          ]
        }
      ]
    },
    {
      "cell_type": "code",
      "source": [],
      "metadata": {
        "id": "F5eHDt72V2IL"
      },
      "execution_count": null,
      "outputs": []
    },
    {
      "cell_type": "markdown",
      "source": [
        "##Question #5\n",
        "Given the following input lists/vector in Python, Answer the following questions for Python\n",
        "\n",
        "- Python input:\n",
        "```\n",
        "vals = [1, 10, None, 45, 3, None, 8]\n",
        "```\n"
      ],
      "metadata": {
        "id": "V4JtICaYSd2Y"
      }
    },
    {
      "cell_type": "markdown",
      "source": [
        "### 5a.\n",
        "What happens if you sum the list/vector containing null values?"
      ],
      "metadata": {
        "id": "07QKy6AJS3pK"
      }
    },
    {
      "cell_type": "code",
      "source": [
        "#Attempting to sum the list/vector containing null values\n",
        "vals = [1, 10, None, 45, 3, None, 8]\n",
        "\n",
        "try:\n",
        "  total = sum(vals)\n",
        "  print(\"Sum of list:\", total)\n",
        "except TypeError as e:\n",
        "  print(\"Error:\", e)\n"
      ],
      "metadata": {
        "id": "Jjwi-itXS3w9",
        "colab": {
          "base_uri": "https://localhost:8080/"
        },
        "outputId": "6e9c3de4-10a9-457c-b0ea-8360ebae03e0"
      },
      "execution_count": null,
      "outputs": [
        {
          "output_type": "stream",
          "name": "stdout",
          "text": [
            "Error: unsupported operand type(s) for +: 'int' and 'NoneType'\n"
          ]
        }
      ]
    },
    {
      "cell_type": "code",
      "source": [],
      "metadata": {
        "id": "7vboqdVJWbGS"
      },
      "execution_count": null,
      "outputs": []
    },
    {
      "cell_type": "markdown",
      "source": [
        "###5b.\n",
        "Using the list from the previous question, create a new list of Boolean values that contains boolean values(or null) and is true if an item is equal to 3.\n",
        "\n",
        "Python output should be:\n",
        "```\n",
        "[False, False, False, False, True, False, False]\n",
        "```\n"
      ],
      "metadata": {
        "id": "sCl-o6fPS34P"
      }
    },
    {
      "cell_type": "code",
      "source": [
        "#Iput list\n",
        "vals = [1, 10, None, 45, 3, None, 8]\n",
        "\n",
        "#Create a boolean list where True if the value equals 3, else False\n",
        "bool_list = [v == 3 for v in vals]\n",
        "\n",
        "#Display the results\n",
        "print(\"Original List:\", vals)\n",
        "print(\"Boolean List:\", bool_list)"
      ],
      "metadata": {
        "id": "Yf4hlqKsWfEw",
        "colab": {
          "base_uri": "https://localhost:8080/"
        },
        "outputId": "1dbfb384-6e5c-42da-e3dd-e1cb5779bf7a"
      },
      "execution_count": null,
      "outputs": [
        {
          "output_type": "stream",
          "name": "stdout",
          "text": [
            "Original List: [1, 10, None, 45, 3, None, 8]\n",
            "Boolean List: [False, False, False, False, True, False, False]\n"
          ]
        }
      ]
    },
    {
      "cell_type": "markdown",
      "source": [
        "###5c.\n",
        "Write a Program to count the number of null **values**, without using any Python built-in functions."
      ],
      "metadata": {
        "id": "Ssp3S9IpS4Hn"
      }
    },
    {
      "cell_type": "code",
      "source": [
        "#List\n",
        "vals = [1, 10, None, 45, 3, None, 8]\n",
        "\n",
        "#Set null count to 0\n",
        "null_count = 0\n",
        "\n",
        "#Loop through list to count None values\n",
        "for v in vals:\n",
        "  if v is None:\n",
        "    null_count += 1\n",
        "\n",
        "#Display result\n",
        "print(\"Number of null values:\", null_count)"
      ],
      "metadata": {
        "id": "rKpWzXgMYlk1",
        "colab": {
          "base_uri": "https://localhost:8080/"
        },
        "outputId": "5ba26778-39d5-4074-b290-42148abffa0b"
      },
      "execution_count": null,
      "outputs": [
        {
          "output_type": "stream",
          "name": "stdout",
          "text": [
            "Number of null values: 2\n"
          ]
        }
      ]
    },
    {
      "cell_type": "markdown",
      "source": [
        "###5d.\n",
        "Create a new list/vector with the null values removed. Hint... a For-loop with an if-statement will be useful."
      ],
      "metadata": {
        "id": "-FCZzpyWS4XA"
      }
    },
    {
      "cell_type": "code",
      "source": [
        "#List\n",
        "vals = [1, 10, None, 45, 3, None, 8]\n",
        "\n",
        "#Initialize an empty list to store non-null values\n",
        "New_List = []\n",
        "\n",
        "#Loop through the original list\n",
        "for v in vals:\n",
        "  if v is not None:\n",
        "    New_List.append(v)\n",
        "\n",
        "#Display the cleaned list\n",
        "print(\"Original List:\", vals)\n",
        "print(\"New List:\", New_List)"
      ],
      "metadata": {
        "id": "WNgknx95YlB9",
        "colab": {
          "base_uri": "https://localhost:8080/"
        },
        "outputId": "616c3fcf-2825-4e26-a642-21e0f2cc330b"
      },
      "execution_count": null,
      "outputs": [
        {
          "output_type": "stream",
          "name": "stdout",
          "text": [
            "Original List: [1, 10, None, 45, 3, None, 8]\n",
            "New List: [1, 10, 45, 3, 8]\n"
          ]
        }
      ]
    },
    {
      "cell_type": "markdown",
      "source": [
        "##Question #6\n",
        "De-bug the following blocks of code. Please document in comments what you changed and why.... What type of error is each?"
      ],
      "metadata": {
        "id": "SXb9CoA-SDQk"
      }
    },
    {
      "cell_type": "code",
      "source": [
        "  capitals =\n",
        "    \"Maryland\" == \"Annapolis\"\n",
        "    \"California\": NA,\n",
        "    \"New York\": \"Sacramento,\n",
        "    \"Utah'': \"Albany\",\n",
        "    \"Alabama\": \"Salt Lake City\"\n",
        "  }\n",
        "  print(capitals[\"Utah'])\n",
        "\n",
        "  #-- print the keys of the dictionary\n",
        "print(capitals.keys)\n",
        "\n",
        "#-- Print the State and Capitals\n",
        "for state, city in capitals.items():\n",
        "  print(f\"The capital of {state} is {city}.\")"
      ],
      "metadata": {
        "id": "c1cAtypWUww1",
        "colab": {
          "base_uri": "https://localhost:8080/",
          "height": 106
        },
        "outputId": "73432e91-1fca-4da8-af5c-7645c2801362"
      },
      "execution_count": 21,
      "outputs": [
        {
          "output_type": "error",
          "ename": "SyntaxError",
          "evalue": "unterminated string literal (detected at line 4) (ipython-input-1047911735.py, line 4)",
          "traceback": [
            "\u001b[0;36m  File \u001b[0;32m\"/tmp/ipython-input-1047911735.py\"\u001b[0;36m, line \u001b[0;32m4\u001b[0m\n\u001b[0;31m    \"New York\": \"Sacramento,\u001b[0m\n\u001b[0m                ^\u001b[0m\n\u001b[0;31mSyntaxError\u001b[0m\u001b[0;31m:\u001b[0m unterminated string literal (detected at line 4)\n"
          ]
        }
      ]
    },
    {
      "cell_type": "code",
      "source": [
        "#Solution\n",
        "#Fixing dictionary syntax issues\n",
        "capitals = {\n",
        "    \"Maryland\": \"Annapolis\",\n",
        "    \"California\": \"NA\",\n",
        "    \"New York\": \"Sacramento\",\n",
        "    \"Utah\": \"Albany\",\n",
        "    \"Alabama\": \"Salt Lake City\"\n",
        "}\n",
        "#Changed '==' to ':' because that was syntax error\n",
        "#Replaced undefined NA with string \"NA\" because it had given NameError\n",
        "#Added missing closing quote because it had given SyntaxError\n",
        "#Fixed mismatched quotes because it had given SyntaxError\n",
        "\n",
        "#Fixed mismatched quotes\n",
        "print(capitals[\"Utah\"])\n",
        "#Changed mismatched single/double quotes because it was giving SyntaxError\n",
        "\n",
        "#Correct way to print dictionary keys\n",
        "print(capitals.keys()) # Corrected variable name and added parentheses\n",
        "#Added parentheses because it was giving AttributeError\n",
        "\n",
        "#Print State and Capital pairs\n",
        "for state, city in capitals.items():\n",
        "    print(f\"The capital of {state} is {city}.\")"
      ],
      "metadata": {
        "colab": {
          "base_uri": "https://localhost:8080/"
        },
        "id": "OqqjeZE1QSN8",
        "outputId": "6a943d9f-decc-4683-d3e7-c2d66d60781e"
      },
      "execution_count": 20,
      "outputs": [
        {
          "output_type": "stream",
          "name": "stdout",
          "text": [
            "Albany\n",
            "dict_keys(['Maryland', 'California', 'New York', 'Utah', 'Alabama'])\n",
            "The capital of Maryland is Annapolis.\n",
            "The capital of California is NA.\n",
            "The capital of New York is Sacramento.\n",
            "The capital of Utah is Albany.\n",
            "The capital of Alabama is Salt Lake City.\n"
          ]
        }
      ]
    },
    {
      "cell_type": "markdown",
      "source": [
        "##Question #7\n",
        "Given the below input data types in Python, convert the following hash (dictionary) into a list that all have the same denomination. e.g. if a number is \"1\" in thousands, turn it into 1,000.\n",
        "- Python: {10: \"thousands\", 1000: \"ones\", .0005: \"millions\", .000000324234: \"trillions\"}\n",
        "\n",
        "\n",
        "\n",
        "Example Output:\n",
        "```\n",
        "[10000, 1000, 500, 324234]\n",
        "```\n"
      ],
      "metadata": {
        "id": "1ggVO0zUUw_L"
      }
    },
    {
      "cell_type": "code",
      "source": [
        "data = {\n",
        "    10: \"thousands\",\n",
        "    1000: \"ones\",\n",
        "    0.0005: \"millions\",\n",
        "    0.000000324234: \"trillions\"\n",
        "}\n",
        "\n",
        "#Coversion factors for each denomination\n",
        "conversion_factors = {\n",
        "    \"ones\": 1,\n",
        "    \"thousands\": 1_000,\n",
        "    \"millions\": 1_000_000,\n",
        "    \"trillions\": 1_000_000_000_000\n",
        "}\n",
        "\n",
        "#Covert values to \"ones\"\n",
        "converted_list = []\n",
        "for value, unit in data.items():\n",
        "  #Multiply by correct conversion factor\n",
        "  converted_value = value*conversion_factors[unit]\n",
        "  converted_list.append(int(converted_value))\n",
        "\n",
        "  print(converted_list)"
      ],
      "metadata": {
        "id": "MnwZ9RXLUxNP",
        "colab": {
          "base_uri": "https://localhost:8080/"
        },
        "outputId": "88e227de-92cf-4a9e-e608-2f00f93c4560"
      },
      "execution_count": 23,
      "outputs": [
        {
          "output_type": "stream",
          "name": "stdout",
          "text": [
            "[10000]\n",
            "[10000, 1000]\n",
            "[10000, 1000, 500]\n",
            "[10000, 1000, 500, 324234]\n"
          ]
        }
      ]
    },
    {
      "cell_type": "markdown",
      "source": [
        "## Question #8\n",
        "Write a block of code, that finds and prints the largest value in a list. Please do not use any built-in functions, and the code should generalize well if the list inputs changed. This would include lists with different data, and lists of different length.\n"
      ],
      "metadata": {
        "id": "l1r535MTUxVU"
      }
    },
    {
      "cell_type": "code",
      "source": [
        "list_of_numbers = [1000,3213,2323,2312,2323]"
      ],
      "metadata": {
        "id": "UYs2LeYdgsG1"
      },
      "execution_count": null,
      "outputs": []
    },
    {
      "cell_type": "code",
      "source": [
        "list_of_numbers = [1000, 3213, 2323, 2312, 2323]\n",
        "\n",
        "#Assume the first element is the largest initially\n",
        "largest = list_of_numbers[0]\n",
        "\n",
        "#Loop through the list to compare each number\n",
        "for num in list_of_numbers:\n",
        "  if num > largest:\n",
        "     largest = num #Update Largest when a bigger number is found\n",
        "\n",
        "  #Print the largest value\n",
        "  print(\"The largest value in the list is:\", largest)\n"
      ],
      "metadata": {
        "id": "ctEn6RA-gsJa",
        "colab": {
          "base_uri": "https://localhost:8080/"
        },
        "outputId": "694d28a2-9544-40e9-e021-8566aee76bc1"
      },
      "execution_count": 31,
      "outputs": [
        {
          "output_type": "stream",
          "name": "stdout",
          "text": [
            "The largest value in the list is: 1000\n",
            "The largest value in the list is: 3213\n",
            "The largest value in the list is: 3213\n",
            "The largest value in the list is: 3213\n",
            "The largest value in the list is: 3213\n"
          ]
        }
      ]
    },
    {
      "cell_type": "markdown",
      "source": [
        "##Question #9\n",
        "Write a block of code to determine if a given input number is a prime number. If the number is a prime number, print \"number is a prime number\" otherwise print \"number is not a prime number\"\n"
      ],
      "metadata": {
        "id": "3YdyL-FlUxlM"
      }
    },
    {
      "cell_type": "code",
      "source": [
        "input_num = 97"
      ],
      "metadata": {
        "id": "1CrMm8tzhfX3"
      },
      "execution_count": null,
      "outputs": []
    },
    {
      "cell_type": "code",
      "source": [
        "#input number\n",
        "input_num = 97\n",
        "\n",
        "#assume the number is prime until proven otherwise\n",
        "is_prime = True\n",
        "\n",
        "#A number less than 2 is not prime\n",
        "if input_num < 2:\n",
        "  is_prime = False\n",
        "else:\n",
        "    #Check divisibility from 2 up to the square root of the number\n",
        "    for i in range(2, int(input_num**0.5) + 1):\n",
        "      if input_num % i ==0:\n",
        "        is_prime = False\n",
        "        break #No need to check further if a divisor is found\n",
        "\n",
        "#Output result based on the flag\n",
        "if is_prime:\n",
        "  print(f\"{input_num} is a prime number.\")\n",
        "else:\n",
        "    print(f\"{input_num} is not a prime number.\")"
      ],
      "metadata": {
        "id": "j9HXRH3CiZ_8",
        "colab": {
          "base_uri": "https://localhost:8080/"
        },
        "outputId": "3e1dc931-38b5-49e3-c4e3-597445ea4f3d"
      },
      "execution_count": 4,
      "outputs": [
        {
          "output_type": "stream",
          "name": "stdout",
          "text": [
            "97 is a prime number.\n"
          ]
        }
      ]
    },
    {
      "cell_type": "code",
      "source": [],
      "metadata": {
        "id": "FvLGLDDdUxsd"
      },
      "execution_count": null,
      "outputs": []
    },
    {
      "cell_type": "markdown",
      "source": [
        "## Question #10\n",
        "Taking in a list of multiple data types, sort the data in to a dictionary by the data type. The dictionary should consist of keys that correspond to a data type (e.g. int, float, str etc., the type/typeof functions should be useful), the values should be a list of all of the values of that data type\n",
        "- Python: [\"hey\", 10, True, None, 23.43, 10.2, \"second\", 11,12, False, None]\n"
      ],
      "metadata": {
        "id": "5xKamnqKtGUy"
      }
    },
    {
      "cell_type": "code",
      "source": [
        "#Input list with multiple data types\n",
        "data = [\"hey\", 10, True, None, 23.43, 10.2, \"second\", 11, 12, False, None]\n",
        "\n",
        "#Initialise an empty dictionary to store values grouped by data type\n",
        "data_by_type = {}\n",
        "\n",
        "#Loop through each item in the list\n",
        "for item in data:\n",
        "  #Get the type of the current item\n",
        "  item_type = type(item).__name__ #using _name_ gives cleaner keys\n",
        "\n",
        "  #if the type key doesn't exist in the dictionary, create it with an empty list\n",
        "  if item_type not in data_by_type:\n",
        "    data_by_type[item_type] = []\n",
        "\n",
        "    #Append the item to the corresponding list in the dictionary\n",
        "    data_by_type[item_type].append(item)\n",
        "\n",
        "#Print the resulting dictionary\n",
        "print(data_by_type)"
      ],
      "metadata": {
        "id": "1rmdOKw6tGgh",
        "colab": {
          "base_uri": "https://localhost:8080/"
        },
        "outputId": "2e328d47-2ca7-41e7-f458-b186c1dc1dea"
      },
      "execution_count": 8,
      "outputs": [
        {
          "output_type": "stream",
          "name": "stdout",
          "text": [
            "{'str': ['hey'], 'int': [10], 'bool': [True], 'NoneType': [None], 'float': [23.43]}\n"
          ]
        }
      ]
    },
    {
      "cell_type": "markdown",
      "source": [],
      "metadata": {
        "id": "eRaHZwnWcuv8"
      }
    },
    {
      "cell_type": "code",
      "source": [],
      "metadata": {
        "id": "WLpC9DMkuIvH"
      },
      "execution_count": null,
      "outputs": []
    }
  ]
}